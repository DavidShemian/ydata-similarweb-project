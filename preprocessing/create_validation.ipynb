{
 "metadata": {
  "language_info": {
   "codemirror_mode": {
    "name": "ipython",
    "version": 3
   },
   "file_extension": ".py",
   "mimetype": "text/x-python",
   "name": "python",
   "nbconvert_exporter": "python",
   "pygments_lexer": "ipython3",
   "version": "3.8.5"
  },
  "orig_nbformat": 2,
  "kernelspec": {
   "name": "python385jvsc74a57bd0aee8b7b246df8f9039afb4144a1f6fd8d2ca17a180786b69acc140d282b71a49",
   "display_name": "Python 3.8.5 64-bit"
  },
  "metadata": {
   "interpreter": {
    "hash": "aee8b7b246df8f9039afb4144a1f6fd8d2ca17a180786b69acc140d282b71a49"
   }
  }
 },
 "nbformat": 4,
 "nbformat_minor": 2,
 "cells": [
  {
   "cell_type": "code",
   "execution_count": 1,
   "metadata": {},
   "outputs": [],
   "source": [
    "import pandas as pd"
   ]
  },
  {
   "cell_type": "code",
   "execution_count": 2,
   "metadata": {},
   "outputs": [
    {
     "output_type": "execute_result",
     "data": {
      "text/plain": [
       "(191524, 33)"
      ]
     },
     "metadata": {},
     "execution_count": 2
    }
   ],
   "source": [
    "df = pd.read_csv(\"../data/apps_matching.csv\", low_memory=False)\n",
    "df.shape"
   ]
  },
  {
   "cell_type": "code",
   "execution_count": 3,
   "metadata": {},
   "outputs": [
    {
     "output_type": "stream",
     "name": "stdout",
     "text": [
      "(38130, 33)\n"
     ]
    }
   ],
   "source": [
    "validation_size = int(0.1 * len(df))\n",
    "shuffle_df = df.sample(frac=1)\n",
    "\n",
    "validation_first_part = shuffle_df[:validation_size]\n",
    "validation_second_part = df[df[\"id_matched\"].isin(validation_first_part[\"id\"])]\n",
    "validation_df = pd.concat([validation_first_part, validation_second_part])\n",
    "\n",
    "print(validation_df.shape)\n",
    "\n",
    "validation_df.to_csv(\n",
    "            \"../data/apps_matching_validation_20%.csv\", index=False, header=True\n",
    "        )"
   ]
  },
  {
   "cell_type": "code",
   "execution_count": 4,
   "metadata": {},
   "outputs": [
    {
     "output_type": "execute_result",
     "data": {
      "text/plain": [
       "(38130, 33)"
      ]
     },
     "metadata": {},
     "execution_count": 4
    }
   ],
   "source": [
    "validation_df.shape"
   ]
  },
  {
   "cell_type": "code",
   "execution_count": 5,
   "metadata": {},
   "outputs": [
    {
     "output_type": "stream",
     "name": "stdout",
     "text": [
      "(155347, 33)\n"
     ]
    }
   ],
   "source": [
    "# drop the validation rows\n",
    "df = df.drop(validation_df.index)\n",
    "print(df.shape)\n",
    "df.to_csv(\n",
    "            \"../data/apps_matching_80%.csv\", index=False, header=True\n",
    "        )"
   ]
  },
  {
   "cell_type": "code",
   "execution_count": null,
   "metadata": {},
   "outputs": [],
   "source": []
  }
 ]
}