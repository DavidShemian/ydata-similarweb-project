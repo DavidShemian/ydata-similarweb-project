{
 "metadata": {
  "language_info": {
   "codemirror_mode": {
    "name": "ipython",
    "version": 3
   },
   "file_extension": ".py",
   "mimetype": "text/x-python",
   "name": "python",
   "nbconvert_exporter": "python",
   "pygments_lexer": "ipython3",
   "version": "3.8.5"
  },
  "orig_nbformat": 2,
  "kernelspec": {
   "name": "python385jvsc74a57bd0aee8b7b246df8f9039afb4144a1f6fd8d2ca17a180786b69acc140d282b71a49",
   "display_name": "Python 3.8.5 64-bit"
  },
  "metadata": {
   "interpreter": {
    "hash": "aee8b7b246df8f9039afb4144a1f6fd8d2ca17a180786b69acc140d282b71a49"
   }
  }
 },
 "nbformat": 4,
 "nbformat_minor": 2,
 "cells": [
  {
   "cell_type": "code",
   "execution_count": 3,
   "metadata": {},
   "outputs": [],
   "source": [
    "import pandas as pd\n",
    "import numpy as np\n",
    "import Levenshtein as lev\n",
    "from sklearn.feature_extraction.text import TfidfVectorizer\n",
    "from sklearn.metrics.pairwise import cosine_similarity"
   ]
  },
  {
   "cell_type": "code",
   "execution_count": 4,
   "metadata": {},
   "outputs": [],
   "source": [
    "matched_train_data = pd.read_csv(\"../data/preprocessed/matched_train_data.csv\", low_memory=False, lineterminator='\\n')\n",
    "matched_train_data = matched_train_data.dropna(subset=[\"id_y\"]).reset_index()\n",
    "\n",
    "false_train_data = pd.read_csv(\"../data/preprocessed/false_train_data.csv\", low_memory=False, lineterminator='\\n')\n",
    "false_train_data = false_train_data.dropna(subset=[\"id_y\"]).reset_index()\n",
    "\n",
    "matched_test_data = pd.read_csv(\"../data/preprocessed/matched_test_data.csv\", low_memory=False, lineterminator='\\n')\n",
    "matched_test_data = matched_test_data.dropna(subset=[\"id_y\"]).reset_index()\n",
    "\n",
    "false_test_data = pd.read_csv(\"../data/preprocessed/false_test_data.csv\", low_memory=False, lineterminator='\\n')\n",
    "false_test_data = false_test_data.dropna(subset=[\"id_y\"]).reset_index()"
   ]
  },
  {
   "cell_type": "code",
   "execution_count": 5,
   "metadata": {},
   "outputs": [],
   "source": [
    "def get_strings_similarity(google_strings, apple_strings):\n",
    "    similarities = []\n",
    "\n",
    "    for string_index in range(len(google_strings)):\n",
    "        google_string, apple_string = google_strings[string_index], apple_strings[string_index]\n",
    "        \n",
    "        if not isinstance(google_string, str) or not isinstance(apple_string, str):\n",
    "            similarities.append(0)\n",
    "            continue\n",
    "        \n",
    "        similarities.append(lev.ratio(google_string, apple_string))\n",
    "    \n",
    "    return similarities"
   ]
  },
  {
   "cell_type": "code",
   "execution_count": 6,
   "metadata": {},
   "outputs": [],
   "source": [
    "def get_tfidf_embeddings(documents):\n",
    "    vectorizer = TfidfVectorizer(lowercase=False)\n",
    "\n",
    "    return vectorizer.fit_transform(documents)"
   ]
  },
  {
   "cell_type": "code",
   "execution_count": 7,
   "metadata": {},
   "outputs": [],
   "source": [
    "from scipy import spatial\n",
    "\n",
    "def get_description_similarity(embeddings):\n",
    "    similarities = []\n",
    "\n",
    "    for embeddings_index in range(0, embeddings.shape[0], 2):\n",
    "        similarities.append(1 - spatial.distance.cosine(embeddings[embeddings_index].toarray().flatten(), embeddings[embeddings_index + 1].toarray().flatten()))\n",
    "    \n",
    "    return similarities"
   ]
  },
  {
   "cell_type": "code",
   "execution_count": 8,
   "metadata": {},
   "outputs": [],
   "source": [
    "def get_matched_dataframe(data, label):\n",
    "    title_similarities = get_strings_similarity(data['title_x'], data['title_y'])\n",
    "    author_similarities = get_strings_similarity(data['author_x'], data['author_y'])\n",
    "    devsite_similarities = get_strings_similarity(data['devsite_x'], data['devsite_y'])\n",
    "\n",
    "    # combine the description one by one\n",
    "    x_y_descriptipns = [None]*(len(data['description_x'])+len(data['description_y']))\n",
    "    x_y_descriptipns[::2] = data['description_x']\n",
    "    x_y_descriptipns[1::2] = data['description_y']\n",
    "\n",
    "    embeddings = get_tfidf_embeddings(x_y_descriptipns)\n",
    "\n",
    "    description_similarities = get_description_similarity(embeddings)\n",
    "    labels = [label] * len(data)\n",
    "\n",
    "    data = list(zip(title_similarities, author_similarities, devsite_similarities, description_similarities, labels))\n",
    "    columns = ['title_similarity', 'author_similarity', 'devsite_similarity', 'description_similarity', 'label']\n",
    "\n",
    "    return pd.DataFrame(data=data, columns=columns)"
   ]
  },
  {
   "cell_type": "code",
   "execution_count": 9,
   "metadata": {},
   "outputs": [
    {
     "output_type": "stream",
     "name": "stdout",
     "text": [
      "CPU times: user 12min 5s, sys: 11.3 s, total: 12min 16s\nWall time: 12min 29s\n"
     ]
    }
   ],
   "source": [
    "%%time \n",
    "\n",
    "false_train_data_matched = get_matched_dataframe(false_train_data, label=0)\n",
    "train_data_matched = get_matched_dataframe(matched_train_data, label=1)"
   ]
  },
  {
   "cell_type": "code",
   "execution_count": 10,
   "metadata": {},
   "outputs": [],
   "source": [
    "X_train = pd.concat([false_train_data_matched, train_data_matched])\n",
    "X_train = X_train.sample(frac=1)"
   ]
  },
  {
   "cell_type": "code",
   "execution_count": 11,
   "metadata": {},
   "outputs": [
    {
     "output_type": "execute_result",
     "data": {
      "text/plain": [
       "   title_similarity  author_similarity  devsite_similarity  \\\n",
       "0          0.333333           0.315789            0.315789   \n",
       "1          0.105263           0.000000            0.000000   \n",
       "2          0.181818           0.266667            0.571429   \n",
       "3          0.153846           0.285714            0.285714   \n",
       "4          0.285714           0.307692            0.333333   \n",
       "\n",
       "   description_similarity  label  \n",
       "0                0.027542      0  \n",
       "1                0.066865      0  \n",
       "2                0.037541      0  \n",
       "3                0.025978      0  \n",
       "4                0.003082      0  "
      ],
      "text/html": "<div>\n<style scoped>\n    .dataframe tbody tr th:only-of-type {\n        vertical-align: middle;\n    }\n\n    .dataframe tbody tr th {\n        vertical-align: top;\n    }\n\n    .dataframe thead th {\n        text-align: right;\n    }\n</style>\n<table border=\"1\" class=\"dataframe\">\n  <thead>\n    <tr style=\"text-align: right;\">\n      <th></th>\n      <th>title_similarity</th>\n      <th>author_similarity</th>\n      <th>devsite_similarity</th>\n      <th>description_similarity</th>\n      <th>label</th>\n    </tr>\n  </thead>\n  <tbody>\n    <tr>\n      <th>0</th>\n      <td>0.333333</td>\n      <td>0.315789</td>\n      <td>0.315789</td>\n      <td>0.027542</td>\n      <td>0</td>\n    </tr>\n    <tr>\n      <th>1</th>\n      <td>0.105263</td>\n      <td>0.000000</td>\n      <td>0.000000</td>\n      <td>0.066865</td>\n      <td>0</td>\n    </tr>\n    <tr>\n      <th>2</th>\n      <td>0.181818</td>\n      <td>0.266667</td>\n      <td>0.571429</td>\n      <td>0.037541</td>\n      <td>0</td>\n    </tr>\n    <tr>\n      <th>3</th>\n      <td>0.153846</td>\n      <td>0.285714</td>\n      <td>0.285714</td>\n      <td>0.025978</td>\n      <td>0</td>\n    </tr>\n    <tr>\n      <th>4</th>\n      <td>0.285714</td>\n      <td>0.307692</td>\n      <td>0.333333</td>\n      <td>0.003082</td>\n      <td>0</td>\n    </tr>\n  </tbody>\n</table>\n</div>"
     },
     "metadata": {},
     "execution_count": 11
    }
   ],
   "source": [
    "false_train_data_matched.head()"
   ]
  },
  {
   "cell_type": "code",
   "execution_count": 12,
   "metadata": {},
   "outputs": [
    {
     "output_type": "stream",
     "name": "stdout",
     "text": [
      "CPU times: user 1min 12s, sys: 1.43 s, total: 1min 13s\nWall time: 1min 16s\n"
     ]
    }
   ],
   "source": [
    "%%time \n",
    "\n",
    "false_test_data_matched = get_matched_dataframe(false_test_data, label=0)\n",
    "test_data_matched = get_matched_dataframe(matched_test_data, label=1)"
   ]
  },
  {
   "cell_type": "code",
   "execution_count": 13,
   "metadata": {},
   "outputs": [],
   "source": [
    "X_test = pd.concat([false_test_data_matched, test_data_matched])\n",
    "X_test = X_test.sample(frac=1)"
   ]
  },
  {
   "cell_type": "code",
   "execution_count": 16,
   "metadata": {},
   "outputs": [
    {
     "output_type": "stream",
     "name": "stderr",
     "text": [
      "/Library/Frameworks/Python.framework/Versions/3.8/lib/python3.8/site-packages/xgboost/sklearn.py:1146: UserWarning: The use of label encoder in XGBClassifier is deprecated and will be removed in a future release. To remove this warning, do the following: 1) Pass option use_label_encoder=False when constructing XGBClassifier object; and 2) Encode your labels (y) as integers starting with 0, i.e. 0, 1, 2, ..., [num_class - 1].\n",
      "  warnings.warn(label_encoder_deprecation_msg, UserWarning)\n",
      "[16:01:25] WARNING: /Users/travis/build/dmlc/xgboost/src/learner.cc:1095: Starting in XGBoost 1.3.0, the default evaluation metric used with the objective 'binary:logistic' was changed from 'error' to 'logloss'. Explicitly set eval_metric if you'd like to restore the old behavior.\n",
      "CPU times: user 36.2 s, sys: 1.22 s, total: 37.5 s\n",
      "Wall time: 5.67 s\n"
     ]
    },
    {
     "output_type": "execute_result",
     "data": {
      "text/plain": [
       "XGBClassifier(base_score=0.5, booster='gbtree', colsample_bylevel=1,\n",
       "              colsample_bynode=1, colsample_bytree=1, gamma=0, gpu_id=-1,\n",
       "              importance_type='gain', interaction_constraints='',\n",
       "              learning_rate=0.300000012, max_delta_step=0, max_depth=6,\n",
       "              min_child_weight=1, missing=nan, monotone_constraints='()',\n",
       "              n_estimators=100, n_jobs=8, num_parallel_tree=1, random_state=0,\n",
       "              reg_alpha=0, reg_lambda=1, scale_pos_weight=1, subsample=1,\n",
       "              tree_method='exact', validate_parameters=1, verbosity=None)"
      ]
     },
     "metadata": {},
     "execution_count": 16
    }
   ],
   "source": [
    "%%time\n",
    "from xgboost import XGBClassifier\n",
    "\n",
    "model = XGBClassifier()\n",
    "model.fit(X_train.drop(columns=[\"label\"]), X_train[\"label\"])"
   ]
  },
  {
   "cell_type": "code",
   "execution_count": 17,
   "metadata": {},
   "outputs": [
    {
     "output_type": "stream",
     "name": "stderr",
     "text": [
      "/Library/Frameworks/Python.framework/Versions/3.8/lib/python3.8/site-packages/xgboost/data.py:112: UserWarning: Use subset (sliced data) of np.ndarray is not recommended because it will generate extra copies and increase memory consumption\n  warnings.warn(\n"
     ]
    }
   ],
   "source": [
    "y_pred = model.predict(X_test.drop(columns=[\"label\"]))"
   ]
  },
  {
   "cell_type": "code",
   "execution_count": 53,
   "metadata": {},
   "outputs": [],
   "source": [
    "y_pred_sorted_labels_true_index = np.where(y_pred[y_pred == 1])[0]\n",
    "y_test_sorted_labels_true_index = np.sort(np.array(X_test[X_test['label'] == 1].index))"
   ]
  },
  {
   "cell_type": "code",
   "execution_count": 19,
   "metadata": {},
   "outputs": [
    {
     "output_type": "execute_result",
     "data": {
      "text/plain": [
       "0.9988231445350284"
      ]
     },
     "metadata": {},
     "execution_count": 19
    }
   ],
   "source": [
    "from sklearn.metrics import balanced_accuracy_score\n",
    "balanced_accuracy_score(X_test['label'], y_pred)"
   ]
  },
  {
   "cell_type": "code",
   "execution_count": null,
   "metadata": {},
   "outputs": [],
   "source": []
  }
 ]
}