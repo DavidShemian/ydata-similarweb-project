{
 "cells": [
  {
   "cell_type": "code",
   "execution_count": 3,
   "metadata": {},
   "outputs": [],
   "source": [
    "import pandas as pd\n",
    "import numpy as np\n",
    "import Levenshtein as lev\n",
    "import matplotlib.pyplot as plt\n",
    "from sklearn.feature_extraction.text import TfidfVectorizer\n",
    "from sklearn.metrics.pairwise import cosine_similarity\n",
    "from sklearn.metrics import balanced_accuracy_score\n",
    "from xgboost import XGBClassifier\n",
    "from sklearn.metrics import confusion_matrix\n",
    "import seaborn as sn\n",
    "from scipy import spatial"
   ]
  },
  {
   "cell_type": "code",
   "execution_count": 547,
   "metadata": {},
   "outputs": [],
   "source": [
    "matched_train_data = pd.read_csv(\"../data/preprocessed/matched_train_data.csv\", low_memory=False, lineterminator='\\n')\n",
    "matched_train_data = matched_train_data.dropna(subset=[\"id_y\"]).reset_index()\n",
    "\n",
    "false_train_data = pd.read_csv(\"../data/preprocessed/false_train_data.csv\", low_memory=False, lineterminator='\\n')\n",
    "false_train_data = false_train_data.dropna(subset=[\"id_y\"]).reset_index()\n",
    "\n",
    "matched_test_data = pd.read_csv(\"../data/preprocessed/matched_test_data.csv\", low_memory=False, lineterminator='\\n')\n",
    "matched_test_data = matched_test_data.dropna(subset=[\"id_y\"]).reset_index()\n",
    "\n",
    "false_test_data = pd.read_csv(\"../data/preprocessed/false_test_data.csv\", low_memory=False, lineterminator='\\n')\n",
    "false_test_data = false_test_data.dropna(subset=[\"id_y\"]).reset_index()\n",
    "\n",
    "random_big_data = pd.read_csv(\"../data/preprocessed/crossed_all_data.csv\", low_memory=False, lineterminator='\\n')\n",
    "random_big_data = random_big_data.dropna(subset=[\"id_y\"]).reset_index()"
   ]
  },
  {
   "cell_type": "code",
   "execution_count": 548,
   "metadata": {},
   "outputs": [],
   "source": [
    "matched_train_data = matched_train_data.fillna('')\n",
    "false_train_data = false_train_data.fillna('')\n",
    "matched_test_data = matched_test_data.fillna('')\n",
    "false_test_data = false_test_data.fillna('')\n",
    "random_big_data = random_big_data.fillna('')"
   ]
  },
  {
   "cell_type": "code",
   "execution_count": 549,
   "metadata": {},
   "outputs": [],
   "source": [
    "matched_train_data_new = pd.read_csv(\"../data/preprocessed/matched_train_data_new.csv\", low_memory=False, lineterminator='\\n')\n",
    "matched_train_data_new = matched_train_data_new.dropna(subset=[\"id_y\"]).reset_index()\n",
    "\n",
    "false_train_data_new = pd.read_csv(\"../data/preprocessed/false_train_data_new.csv\", low_memory=False, lineterminator='\\n')\n",
    "false_train_data_new = false_train_data_new.dropna(subset=[\"id_y\"]).reset_index()\n",
    "\n",
    "matched_test_data_new = pd.read_csv(\"../data/preprocessed/matched_test_data_new.csv\", low_memory=False, lineterminator='\\n')\n",
    "matched_test_data_new = matched_test_data_new.dropna(subset=[\"id_y\"]).reset_index()\n",
    "\n",
    "false_test_data_new = pd.read_csv(\"../data/preprocessed/false_test_data_new.csv\", low_memory=False, lineterminator='\\n')\n",
    "false_test_data_new = false_test_data_new.dropna(subset=[\"id_y\"]).reset_index()\n",
    "\n",
    "random_big_data_new = pd.read_csv(\"../data/preprocessed/crossed_all_data_new.csv\", low_memory=False, lineterminator='\\n')\n",
    "random_big_data_new = random_big_data_new.dropna(subset=[\"id_y\"]).reset_index()"
   ]
  },
  {
   "cell_type": "code",
   "execution_count": 550,
   "metadata": {},
   "outputs": [],
   "source": [
    "matched_train_data_new = matched_train_data_new.fillna('')\n",
    "false_train_data_new = false_train_data_new.fillna('')\n",
    "matched_test_data_new = matched_test_data_new.fillna('')\n",
    "false_test_data_new = false_test_data_new.fillna('')\n",
    "random_big_data_new = crossed_all_data_new.fillna('')"
   ]
  },
  {
   "cell_type": "code",
   "execution_count": 8,
   "metadata": {},
   "outputs": [],
   "source": [
    "all_big_data = pd.read_csv(\"../data/preprocessed/all_big_data.csv\", low_memory=False, lineterminator='\\n')\n",
    "all_big_data = all_big_data.dropna(subset=[\"id_y\"]).reset_index()"
   ]
  },
  {
   "cell_type": "code",
   "execution_count": 9,
   "metadata": {},
   "outputs": [],
   "source": [
    "all_big_data = all_big_data.fillna('')"
   ]
  },
  {
   "cell_type": "code",
   "execution_count": 10,
   "metadata": {},
   "outputs": [],
   "source": [
    "def get_strings_similarity(google_strings, apple_strings, is_devsite=False):\n",
    "    similarities = []\n",
    "\n",
    "    for string_index in range(len(google_strings)):\n",
    "        google_string, apple_string = google_strings[string_index], apple_strings[string_index]\n",
    "        \n",
    "        if google_string == \"\" or apple_string == \"\":\n",
    "            similarities.append(0)\n",
    "            continue\n",
    "\n",
    "        if is_devsite:\n",
    "            if google_string in [\"google\", \"blogspot\", \"facebook\", \"woqrdpress\", \"app-ads-txt\"] or apple_string in [\"google\", \"blogspot\", \"facebook\", \"wordpress\", \"app-ads-txt\"]:\n",
    "                similarities.append(0)\n",
    "                continue\n",
    "\n",
    "        if not isinstance(google_string, str) or not isinstance(apple_string, str):\n",
    "            similarities.append(0)\n",
    "            continue\n",
    "        \n",
    "        similarities.append(lev.ratio(google_string, apple_string))\n",
    "    \n",
    "    return similarities"
   ]
  },
  {
   "cell_type": "code",
   "execution_count": 11,
   "metadata": {},
   "outputs": [],
   "source": [
    "def get_tfidf_embeddings(documents):\n",
    "    vectorizer = TfidfVectorizer(lowercase=False)\n",
    "\n",
    "    return vectorizer.fit_transform(documents)"
   ]
  },
  {
   "cell_type": "code",
   "execution_count": 12,
   "metadata": {},
   "outputs": [],
   "source": [
    "def get_description_similarity(embeddings):\n",
    "    similarities = []\n",
    "\n",
    "    for embeddings_index in range(0, embeddings.shape[0], 2):\n",
    "        similarities.append(1 - spatial.distance.cosine(embeddings[embeddings_index].toarray().flatten(), embeddings[embeddings_index + 1].toarray().flatten()))\n",
    "    \n",
    "    return similarities"
   ]
  },
  {
   "cell_type": "code",
   "execution_count": 562,
   "metadata": {},
   "outputs": [],
   "source": [
    "def get_matched_dataframe(data):\n",
    "    title_similarities = get_strings_similarity(data['title_x'], data['title_y'])\n",
    "    author_similarities = get_strings_similarity(data['author_x'], data['author_y'])\n",
    "    devsite_similarities = get_strings_similarity(data['devsite_x'], data['devsite_y'], True)\n",
    "\n",
    "    # combine the description one by one\n",
    "    x_y_descriptipns = [None]*(len(data['description_x'])+len(data['description_y']))\n",
    "    x_y_descriptipns[::2] = data['description_x']\n",
    "    x_y_descriptipns[1::2] = data['description_y']\n",
    "\n",
    "    embeddings = get_tfidf_embeddings(x_y_descriptipns)\n",
    "\n",
    "    description_similarities = get_description_similarity(embeddings)\n",
    "    labels = data['label'] if 'label' in data.columns else [-1] * len(data)\n",
    "\n",
    "    data = list(zip(title_similarities, author_similarities, devsite_similarities, description_similarities, labels))\n",
    "    columns = ['title_similarity', 'author_similarity', 'devsite_similarity', 'description_similarity', 'label']\n",
    "\n",
    "    return pd.DataFrame(data=data, columns=columns)"
   ]
  },
  {
   "cell_type": "code",
   "execution_count": 15,
   "metadata": {},
   "outputs": [],
   "source": [
    "def concat_df(first, second):\n",
    "    conc = pd.concat([first, second])\n",
    "    conc = conc.sample(frac=1)\n",
    "\n",
    "    return conc.reset_index()"
   ]
  },
  {
   "cell_type": "code",
   "execution_count": 491,
   "metadata": {},
   "outputs": [],
   "source": [
    "def get_predictions(X, X_t, labels_to_drop):\n",
    "    model = XGBClassifier()\n",
    "    model.fit(X.drop(columns=labels_to_drop), X[\"label\"])\n",
    "    \n",
    "    y_pred = model.predict(X_t.drop(columns=labels_to_drop))\n",
    "    y_prob = model.predict_proba(X_t.drop(columns=labels_to_drop))\n",
    "\n",
    "    return y_pred, y_prob"
   ]
  },
  {
   "cell_type": "markdown",
   "metadata": {},
   "source": [
    "# Soft train test"
   ]
  },
  {
   "cell_type": "code",
   "execution_count": 192,
   "metadata": {},
   "outputs": [],
   "source": [
    "false_train_data_labeld = false_train_data.copy()\n",
    "false_train_data_labeld['label'] = 0\n",
    "\n",
    "matched_train_data_labeld = matched_train_data.copy()\n",
    "matched_train_data_labeld['label'] = 1"
   ]
  },
  {
   "cell_type": "code",
   "execution_count": 196,
   "metadata": {},
   "outputs": [],
   "source": [
    "X_train_data = concat_df(false_train_data_labeld, matched_train_data_labeld)"
   ]
  },
  {
   "cell_type": "code",
   "execution_count": 198,
   "metadata": {},
   "outputs": [
    {
     "name": "stderr",
     "output_type": "stream",
     "text": [
      "/Library/Frameworks/Python.framework/Versions/3.8/lib/python3.8/site-packages/scipy/spatial/distance.py:728: RuntimeWarning: invalid value encountered in double_scalars\n",
      "  dist = 1.0 - uv / np.sqrt(uu * vv)\n"
     ]
    }
   ],
   "source": [
    "X_train = get_matched_dataframe(X_train_data)"
   ]
  },
  {
   "cell_type": "code",
   "execution_count": 213,
   "metadata": {},
   "outputs": [],
   "source": [
    "false_matched_test_data_labeld = false_test_data.copy()\n",
    "false_matched_test_data_labeld['label'] = 0\n",
    "\n",
    "matched_test_data_labeld = matched_test_data.copy()\n",
    "matched_test_data_labeld['label'] = 1"
   ]
  },
  {
   "cell_type": "code",
   "execution_count": 214,
   "metadata": {},
   "outputs": [],
   "source": [
    "X_test_data = concat_df(false_matched_test_data_labeld, matched_test_data_labeld)\n",
    "X_test = get_matched_dataframe(X_test_data)"
   ]
  },
  {
   "cell_type": "code",
   "execution_count": 492,
   "metadata": {},
   "outputs": [
    {
     "name": "stderr",
     "output_type": "stream",
     "text": [
      "/Library/Frameworks/Python.framework/Versions/3.8/lib/python3.8/site-packages/xgboost/sklearn.py:1146: UserWarning: The use of label encoder in XGBClassifier is deprecated and will be removed in a future release. To remove this warning, do the following: 1) Pass option use_label_encoder=False when constructing XGBClassifier object; and 2) Encode your labels (y) as integers starting with 0, i.e. 0, 1, 2, ..., [num_class - 1].\n",
      "  warnings.warn(label_encoder_deprecation_msg, UserWarning)\n"
     ]
    },
    {
     "name": "stdout",
     "output_type": "stream",
     "text": [
      "[16:07:23] WARNING: /Users/travis/build/dmlc/xgboost/src/learner.cc:1095: Starting in XGBoost 1.3.0, the default evaluation metric used with the objective 'binary:logistic' was changed from 'error' to 'logloss'. Explicitly set eval_metric if you'd like to restore the old behavior.\n"
     ]
    },
    {
     "name": "stderr",
     "output_type": "stream",
     "text": [
      "/Library/Frameworks/Python.framework/Versions/3.8/lib/python3.8/site-packages/xgboost/data.py:112: UserWarning: Use subset (sliced data) of np.ndarray is not recommended because it will generate extra copies and increase memory consumption\n",
      "  warnings.warn(\n"
     ]
    },
    {
     "data": {
      "text/plain": [
       "0.9987725792701363"
      ]
     },
     "execution_count": 492,
     "metadata": {},
     "output_type": "execute_result"
    }
   ],
   "source": [
    "soft_pred, soft_prob = get_predictions(X_train, X_test, [\"label\"])\n",
    "soft_score = balanced_accuracy_score(X_test['label'], soft_pred)\n",
    "soft_score"
   ]
  },
  {
   "cell_type": "markdown",
   "metadata": {},
   "source": [
    "## Hard train test"
   ]
  },
  {
   "cell_type": "code",
   "execution_count": 22,
   "metadata": {},
   "outputs": [],
   "source": [
    "def get_hard_data(data):\n",
    "    data_sum = data.copy()\n",
    "    data_sum['sum'] = data_sum.drop(columns=[\"label\"]).sum(axis=1)\n",
    "    data_sum_top_25 = data_sum.nlargest(int(data.shape[0] * 0.25), 'sum')\n",
    "    print(data_sum_top_25[\"sum\"].mean(), data.drop(columns=[\"label\"]).sum(axis=1).mean())\n",
    "    return data_sum_top_25"
   ]
  },
  {
   "cell_type": "code",
   "execution_count": 216,
   "metadata": {},
   "outputs": [
    {
     "name": "stdout",
     "output_type": "stream",
     "text": [
      "2.6625209725715244 1.0969351461092005\n",
      "2.7999090967257194 1.1380174214277945\n"
     ]
    }
   ],
   "source": [
    "X_train_hard = get_hard_data(X_train)\n",
    "X_test_hard = get_hard_data(X_test)"
   ]
  },
  {
   "cell_type": "code",
   "execution_count": 217,
   "metadata": {},
   "outputs": [
    {
     "name": "stderr",
     "output_type": "stream",
     "text": [
      "/Library/Frameworks/Python.framework/Versions/3.8/lib/python3.8/site-packages/xgboost/sklearn.py:1146: UserWarning: The use of label encoder in XGBClassifier is deprecated and will be removed in a future release. To remove this warning, do the following: 1) Pass option use_label_encoder=False when constructing XGBClassifier object; and 2) Encode your labels (y) as integers starting with 0, i.e. 0, 1, 2, ..., [num_class - 1].\n",
      "  warnings.warn(label_encoder_deprecation_msg, UserWarning)\n"
     ]
    },
    {
     "name": "stdout",
     "output_type": "stream",
     "text": [
      "[13:26:01] WARNING: /Users/travis/build/dmlc/xgboost/src/learner.cc:1095: Starting in XGBoost 1.3.0, the default evaluation metric used with the objective 'binary:logistic' was changed from 'error' to 'logloss'. Explicitly set eval_metric if you'd like to restore the old behavior.\n"
     ]
    },
    {
     "name": "stderr",
     "output_type": "stream",
     "text": [
      "/Library/Frameworks/Python.framework/Versions/3.8/lib/python3.8/site-packages/xgboost/data.py:112: UserWarning: Use subset (sliced data) of np.ndarray is not recommended because it will generate extra copies and increase memory consumption\n",
      "  warnings.warn(\n"
     ]
    },
    {
     "data": {
      "text/plain": [
       "0.9974415393388116"
      ]
     },
     "execution_count": 217,
     "metadata": {},
     "output_type": "execute_result"
    }
   ],
   "source": [
    "hard_pred = get_predictions(X_train_hard, X_test_hard, [\"label\", \"sum\"])\n",
    "average_precision = balanced_accuracy_score(X_test_hard[\"label\"], hard_pred)\n",
    "average_precision"
   ]
  },
  {
   "cell_type": "markdown",
   "metadata": {},
   "source": [
    "## confusion matrix"
   ]
  },
  {
   "cell_type": "code",
   "execution_count": 283,
   "metadata": {},
   "outputs": [],
   "source": [
    "soft_pred_1_index = np.where(soft_pred == 1)[0]\n",
    "X_test_1 = X_test.iloc[soft_pred_1_index]\n",
    "X_test_1_data = X_test_data.iloc[X_test_1.index]"
   ]
  },
  {
   "cell_type": "code",
   "execution_count": 385,
   "metadata": {},
   "outputs": [
    {
     "name": "stdout",
     "output_type": "stream",
     "text": [
      "[[76799    21]\n",
      " [   37 16924]]\n"
     ]
    },
    {
     "data": {
      "text/plain": [
       "<AxesSubplot:>"
      ]
     },
     "execution_count": 385,
     "metadata": {},
     "output_type": "execute_result"
    },
    {
     "data": {
      "image/png": "[encoded data removed]",
      "text/plain": [
       "<Figure size 432x288 with 2 Axes>"
      ]
     },
     "metadata": {
      "needs_background": "light"
     },
     "output_type": "display_data"
    }
   ],
   "source": [
    "cm = confusion_matrix(X_test['label'], soft_pred)\n",
    "cm_plot = np.array([[cm[0][0], cm[1][1]], [cm[1][0], cm[0][1]]])\n",
    "sn.heatmap(cm_plot/np.sum(cm_plot, axis=0), annot=True, \n",
    "            fmt='.2%', cmap='Blues', xticklabels=['p', 'n'], yticklabels=['t', 'f'])"
   ]
  },
  {
   "cell_type": "markdown",
   "metadata": {},
   "source": [
    "# Old VS New"
   ]
  },
  {
   "cell_type": "markdown",
   "metadata": {},
   "source": [
    "<h3>\n",
    "diff: <br>\n",
    "partition in title and author\n",
    "<br>\n",
    "no black list in devsite\n",
    "</h3>"
   ]
  },
  {
   "cell_type": "code",
   "execution_count": 28,
   "metadata": {},
   "outputs": [
    {
     "name": "stderr",
     "output_type": "stream",
     "text": [
      "/Library/Frameworks/Python.framework/Versions/3.8/lib/python3.8/site-packages/scipy/spatial/distance.py:728: RuntimeWarning: invalid value encountered in double_scalars\n",
      "  dist = 1.0 - uv / np.sqrt(uu * vv)\n"
     ]
    },
    {
     "name": "stdout",
     "output_type": "stream",
     "text": [
      "CPU times: user 17min 5s, sys: 8.52 s, total: 17min 13s\n",
      "Wall time: 17min 15s\n"
     ]
    }
   ],
   "source": [
    "%%time \n",
    "\n",
    "false_train_data_matched = get_matched_dataframe(false_train_data, label=0)\n",
    "train_data_matched = get_matched_dataframe(matched_train_data, label=1)"
   ]
  },
  {
   "cell_type": "code",
   "execution_count": 29,
   "metadata": {},
   "outputs": [],
   "source": [
    "X_train = concat_df(false_train_data_matched, train_data_matched)"
   ]
  },
  {
   "cell_type": "code",
   "execution_count": 30,
   "metadata": {},
   "outputs": [
    {
     "name": "stdout",
     "output_type": "stream",
     "text": [
      "CPU times: user 1min 24s, sys: 872 ms, total: 1min 24s\n",
      "Wall time: 1min 25s\n"
     ]
    }
   ],
   "source": [
    "%%time \n",
    "\n",
    "false_test_data_matched = get_matched_dataframe(false_test_data, label=0)\n",
    "test_data_matched = get_matched_dataframe(matched_test_data, label=1)"
   ]
  },
  {
   "cell_type": "code",
   "execution_count": 31,
   "metadata": {},
   "outputs": [],
   "source": [
    "X_test = concat_df(false_test_data_matched, test_data_matched)"
   ]
  },
  {
   "cell_type": "code",
   "execution_count": 32,
   "metadata": {},
   "outputs": [
    {
     "name": "stdout",
     "output_type": "stream",
     "text": [
      "CPU times: user 11min 19s, sys: 1min 48s, total: 13min 7s\n",
      "Wall time: 13min 9s\n"
     ]
    }
   ],
   "source": [
    "%%time \n",
    "\n",
    "false_train_data_matched_new = get_matched_dataframe(false_train_data_new, label=0)\n",
    "train_data_matched_new = get_matched_dataframe(matched_train_data_new, label=1)"
   ]
  },
  {
   "cell_type": "code",
   "execution_count": 33,
   "metadata": {},
   "outputs": [],
   "source": [
    "X_train_new = concat_df(false_train_data_matched_new, train_data_matched_new)"
   ]
  },
  {
   "cell_type": "code",
   "execution_count": 34,
   "metadata": {},
   "outputs": [
    {
     "name": "stdout",
     "output_type": "stream",
     "text": [
      "CPU times: user 50.1 s, sys: 620 ms, total: 50.7 s\n",
      "Wall time: 50.9 s\n"
     ]
    }
   ],
   "source": [
    "%%time \n",
    "\n",
    "false_test_data_matched_new = get_matched_dataframe(false_test_data_new, label=0)\n",
    "train_test_matched_new = get_matched_dataframe(matched_test_data_new, label=1)"
   ]
  },
  {
   "cell_type": "code",
   "execution_count": 35,
   "metadata": {},
   "outputs": [],
   "source": [
    "X_test_new = concat_df(false_test_data_matched_new, train_test_matched_new)"
   ]
  },
  {
   "cell_type": "code",
   "execution_count": 36,
   "metadata": {},
   "outputs": [
    {
     "name": "stderr",
     "output_type": "stream",
     "text": [
      "/Library/Frameworks/Python.framework/Versions/3.8/lib/python3.8/site-packages/xgboost/sklearn.py:1146: UserWarning: The use of label encoder in XGBClassifier is deprecated and will be removed in a future release. To remove this warning, do the following: 1) Pass option use_label_encoder=False when constructing XGBClassifier object; and 2) Encode your labels (y) as integers starting with 0, i.e. 0, 1, 2, ..., [num_class - 1].\n",
      "  warnings.warn(label_encoder_deprecation_msg, UserWarning)\n"
     ]
    },
    {
     "name": "stdout",
     "output_type": "stream",
     "text": [
      "[15:48:01] WARNING: /Users/travis/build/dmlc/xgboost/src/learner.cc:1095: Starting in XGBoost 1.3.0, the default evaluation metric used with the objective 'binary:logistic' was changed from 'error' to 'logloss'. Explicitly set eval_metric if you'd like to restore the old behavior.\n"
     ]
    },
    {
     "name": "stderr",
     "output_type": "stream",
     "text": [
      "/Library/Frameworks/Python.framework/Versions/3.8/lib/python3.8/site-packages/xgboost/data.py:112: UserWarning: Use subset (sliced data) of np.ndarray is not recommended because it will generate extra copies and increase memory consumption\n",
      "  warnings.warn(\n"
     ]
    }
   ],
   "source": [
    "model = XGBClassifier()\n",
    "model.fit(X_train.drop(columns=[\"label\"]), X_train[\"label\"])\n",
    "    \n",
    "y_pred = model.predict(X_test.drop(columns=[\"label\"]))"
   ]
  },
  {
   "cell_type": "code",
   "execution_count": 37,
   "metadata": {},
   "outputs": [
    {
     "data": {
      "text/plain": [
       "0.9987235737111715"
      ]
     },
     "execution_count": 37,
     "metadata": {},
     "output_type": "execute_result"
    }
   ],
   "source": [
    "score_old = balanced_accuracy_score(X_test[\"label\"], y_pred)\n",
    "score_old"
   ]
  },
  {
   "cell_type": "code",
   "execution_count": 38,
   "metadata": {},
   "outputs": [
    {
     "name": "stderr",
     "output_type": "stream",
     "text": [
      "/Library/Frameworks/Python.framework/Versions/3.8/lib/python3.8/site-packages/xgboost/sklearn.py:1146: UserWarning: The use of label encoder in XGBClassifier is deprecated and will be removed in a future release. To remove this warning, do the following: 1) Pass option use_label_encoder=False when constructing XGBClassifier object; and 2) Encode your labels (y) as integers starting with 0, i.e. 0, 1, 2, ..., [num_class - 1].\n",
      "  warnings.warn(label_encoder_deprecation_msg, UserWarning)\n"
     ]
    },
    {
     "name": "stdout",
     "output_type": "stream",
     "text": [
      "[15:48:17] WARNING: /Users/travis/build/dmlc/xgboost/src/learner.cc:1095: Starting in XGBoost 1.3.0, the default evaluation metric used with the objective 'binary:logistic' was changed from 'error' to 'logloss'. Explicitly set eval_metric if you'd like to restore the old behavior.\n"
     ]
    },
    {
     "name": "stderr",
     "output_type": "stream",
     "text": [
      "/Library/Frameworks/Python.framework/Versions/3.8/lib/python3.8/site-packages/xgboost/data.py:112: UserWarning: Use subset (sliced data) of np.ndarray is not recommended because it will generate extra copies and increase memory consumption\n",
      "  warnings.warn(\n"
     ]
    }
   ],
   "source": [
    "model_new = XGBClassifier()\n",
    "model_new.fit(X_train_new.drop(columns=[\"label\"]), X_train_new[\"label\"])\n",
    "\n",
    "y_pred_new = model_new.predict(X_test_new.drop(columns=[\"label\"]))"
   ]
  },
  {
   "cell_type": "code",
   "execution_count": 39,
   "metadata": {},
   "outputs": [
    {
     "data": {
      "text/plain": [
       "0.9991716481685138"
      ]
     },
     "execution_count": 39,
     "metadata": {},
     "output_type": "execute_result"
    }
   ],
   "source": [
    "score_new = balanced_accuracy_score(X_test_new[\"label\"], y_pred_new)\n",
    "score_new"
   ]
  },
  {
   "cell_type": "markdown",
   "metadata": {},
   "source": [
    "# Big Data"
   ]
  },
  {
   "cell_type": "markdown",
   "metadata": {},
   "source": [
    "<h3> Big data with same titles <br>\n",
    "1:5 of matched and unmatched ratio"
   ]
  },
  {
   "cell_type": "code",
   "execution_count": 40,
   "metadata": {},
   "outputs": [
    {
     "name": "stderr",
     "output_type": "stream",
     "text": [
      "/Library/Frameworks/Python.framework/Versions/3.8/lib/python3.8/site-packages/scipy/spatial/distance.py:728: RuntimeWarning: invalid value encountered in double_scalars\n",
      "  dist = 1.0 - uv / np.sqrt(uu * vv)\n"
     ]
    },
    {
     "name": "stdout",
     "output_type": "stream",
     "text": [
      "CPU times: user 41min, sys: 3min 37s, total: 44min 38s\n",
      "Wall time: 44min 47s\n"
     ]
    }
   ],
   "source": [
    "%%time \n",
    "\n",
    "all_big_data_matched = get_matched_dataframe(all_big_data, label=0)"
   ]
  },
  {
   "cell_type": "code",
   "execution_count": 598,
   "metadata": {},
   "outputs": [
    {
     "data": {
      "text/html": [
       "<div>\n",
       "<style scoped>\n",
       "    .dataframe tbody tr th:only-of-type {\n",
       "        vertical-align: middle;\n",
       "    }\n",
       "\n",
       "    .dataframe tbody tr th {\n",
       "        vertical-align: top;\n",
       "    }\n",
       "\n",
       "    .dataframe thead th {\n",
       "        text-align: right;\n",
       "    }\n",
       "</style>\n",
       "<table border=\"1\" class=\"dataframe\">\n",
       "  <thead>\n",
       "    <tr style=\"text-align: right;\">\n",
       "      <th></th>\n",
       "      <th>title_similarity</th>\n",
       "      <th>author_similarity</th>\n",
       "      <th>devsite_similarity</th>\n",
       "      <th>description_similarity</th>\n",
       "      <th>label</th>\n",
       "    </tr>\n",
       "  </thead>\n",
       "  <tbody>\n",
       "    <tr>\n",
       "      <th>0</th>\n",
       "      <td>0.307692</td>\n",
       "      <td>0.357143</td>\n",
       "      <td>0.000000</td>\n",
       "      <td>0.060270</td>\n",
       "      <td>0</td>\n",
       "    </tr>\n",
       "    <tr>\n",
       "      <th>1</th>\n",
       "      <td>1.000000</td>\n",
       "      <td>1.000000</td>\n",
       "      <td>1.000000</td>\n",
       "      <td>0.972792</td>\n",
       "      <td>0</td>\n",
       "    </tr>\n",
       "    <tr>\n",
       "      <th>2</th>\n",
       "      <td>0.000000</td>\n",
       "      <td>0.272727</td>\n",
       "      <td>0.285714</td>\n",
       "      <td>0.004546</td>\n",
       "      <td>0</td>\n",
       "    </tr>\n",
       "    <tr>\n",
       "      <th>3</th>\n",
       "      <td>0.129032</td>\n",
       "      <td>0.230769</td>\n",
       "      <td>0.117647</td>\n",
       "      <td>0.069634</td>\n",
       "      <td>0</td>\n",
       "    </tr>\n",
       "    <tr>\n",
       "      <th>4</th>\n",
       "      <td>0.000000</td>\n",
       "      <td>0.272727</td>\n",
       "      <td>0.000000</td>\n",
       "      <td>0.000000</td>\n",
       "      <td>0</td>\n",
       "    </tr>\n",
       "    <tr>\n",
       "      <th>5</th>\n",
       "      <td>0.313725</td>\n",
       "      <td>0.255319</td>\n",
       "      <td>0.000000</td>\n",
       "      <td>0.008111</td>\n",
       "      <td>0</td>\n",
       "    </tr>\n",
       "    <tr>\n",
       "      <th>6</th>\n",
       "      <td>1.000000</td>\n",
       "      <td>1.000000</td>\n",
       "      <td>1.000000</td>\n",
       "      <td>1.000000</td>\n",
       "      <td>0</td>\n",
       "    </tr>\n",
       "    <tr>\n",
       "      <th>7</th>\n",
       "      <td>1.000000</td>\n",
       "      <td>1.000000</td>\n",
       "      <td>0.000000</td>\n",
       "      <td>0.087237</td>\n",
       "      <td>0</td>\n",
       "    </tr>\n",
       "    <tr>\n",
       "      <th>8</th>\n",
       "      <td>0.333333</td>\n",
       "      <td>0.320000</td>\n",
       "      <td>0.000000</td>\n",
       "      <td>0.034762</td>\n",
       "      <td>0</td>\n",
       "    </tr>\n",
       "    <tr>\n",
       "      <th>9</th>\n",
       "      <td>0.210526</td>\n",
       "      <td>0.000000</td>\n",
       "      <td>0.000000</td>\n",
       "      <td>0.025338</td>\n",
       "      <td>0</td>\n",
       "    </tr>\n",
       "  </tbody>\n",
       "</table>\n",
       "</div>"
      ],
      "text/plain": [
       "   title_similarity  author_similarity  devsite_similarity  \\\n",
       "0          0.307692           0.357143            0.000000   \n",
       "1          1.000000           1.000000            1.000000   \n",
       "2          0.000000           0.272727            0.285714   \n",
       "3          0.129032           0.230769            0.117647   \n",
       "4          0.000000           0.272727            0.000000   \n",
       "5          0.313725           0.255319            0.000000   \n",
       "6          1.000000           1.000000            1.000000   \n",
       "7          1.000000           1.000000            0.000000   \n",
       "8          0.333333           0.320000            0.000000   \n",
       "9          0.210526           0.000000            0.000000   \n",
       "\n",
       "   description_similarity  label  \n",
       "0                0.060270      0  \n",
       "1                0.972792      0  \n",
       "2                0.004546      0  \n",
       "3                0.069634      0  \n",
       "4                0.000000      0  \n",
       "5                0.008111      0  \n",
       "6                1.000000      0  \n",
       "7                0.087237      0  \n",
       "8                0.034762      0  \n",
       "9                0.025338      0  "
      ]
     },
     "execution_count": 598,
     "metadata": {},
     "output_type": "execute_result"
    }
   ],
   "source": [
    "all_big_data_matched.head(10)"
   ]
  },
  {
   "cell_type": "code",
   "execution_count": 512,
   "metadata": {},
   "outputs": [
    {
     "name": "stderr",
     "output_type": "stream",
     "text": [
      "/Library/Frameworks/Python.framework/Versions/3.8/lib/python3.8/site-packages/xgboost/data.py:112: UserWarning: Use subset (sliced data) of np.ndarray is not recommended because it will generate extra copies and increase memory consumption\n",
      "  warnings.warn(\n"
     ]
    }
   ],
   "source": [
    "y_pred_big = model_new.predict(all_big_data_matched.drop(columns=[\"label\"]))\n",
    "y_prob_big = model_new.predict_proba(all_big_data_matched.drop(columns=[\"label\"]))"
   ]
  },
  {
   "cell_type": "code",
   "execution_count": 530,
   "metadata": {},
   "outputs": [],
   "source": [
    "similar_couples_indexes = np.where(y_pred_big == 1)[0]\n",
    "similar_couples = all_big_data_matched.loc[similar_couples_indexes]\n",
    "similar_couples_data = all_big_data.loc[similar_couples_indexes]\n",
    "y_proba_similar_couples = y_prob_big[similar_couples_indexes]"
   ]
  },
  {
   "cell_type": "code",
   "execution_count": 534,
   "metadata": {},
   "outputs": [],
   "source": [
    "similar_couples_data['proba_0'] = y_proba_similar_couples[:, 0]\n",
    "similar_couples_data['proba_1'] = y_proba_similar_couples[:, 1]"
   ]
  },
  {
   "cell_type": "code",
   "execution_count": 541,
   "metadata": {},
   "outputs": [
    {
     "data": {
      "text/html": [
       "<div>\n",
       "<style scoped>\n",
       "    .dataframe tbody tr th:only-of-type {\n",
       "        vertical-align: middle;\n",
       "    }\n",
       "\n",
       "    .dataframe tbody tr th {\n",
       "        vertical-align: top;\n",
       "    }\n",
       "\n",
       "    .dataframe thead th {\n",
       "        text-align: right;\n",
       "    }\n",
       "</style>\n",
       "<table border=\"1\" class=\"dataframe\">\n",
       "  <thead>\n",
       "    <tr style=\"text-align: right;\">\n",
       "      <th></th>\n",
       "      <th>index</th>\n",
       "      <th>id_x</th>\n",
       "      <th>store_x</th>\n",
       "      <th>apple_maincategory_x</th>\n",
       "      <th>google_maincategory_x</th>\n",
       "      <th>title_x</th>\n",
       "      <th>author_x</th>\n",
       "      <th>devsite_x</th>\n",
       "      <th>description_x</th>\n",
       "      <th>id_y</th>\n",
       "      <th>store_y</th>\n",
       "      <th>apple_maincategory_y</th>\n",
       "      <th>google_maincategory_y</th>\n",
       "      <th>title_y</th>\n",
       "      <th>author_y</th>\n",
       "      <th>devsite_y</th>\n",
       "      <th>description_y</th>\n",
       "      <th>proba_0</th>\n",
       "      <th>proba_1</th>\n",
       "    </tr>\n",
       "  </thead>\n",
       "  <tbody>\n",
       "    <tr>\n",
       "      <th>257787</th>\n",
       "      <td>257787</td>\n",
       "      <td>com.inmystream.verahitradio</td>\n",
       "      <td>0</td>\n",
       "      <td></td>\n",
       "      <td>Music</td>\n",
       "      <td>vera hit radio</td>\n",
       "      <td>inmystream</td>\n",
       "      <td>verahitradio</td>\n",
       "      <td>la radio delle hits che hanno fatto e faranno ...</td>\n",
       "      <td>1450361738</td>\n",
       "      <td>1</td>\n",
       "      <td>6016</td>\n",
       "      <td></td>\n",
       "      <td>vera hit radio</td>\n",
       "      <td>andrea giordano</td>\n",
       "      <td>verahitradio</td>\n",
       "      <td>la radio delle hits che hanno fatto e faranno ...</td>\n",
       "      <td>3.576279e-07</td>\n",
       "      <td>1.000000</td>\n",
       "    </tr>\n",
       "    <tr>\n",
       "      <th>255562</th>\n",
       "      <td>255562</td>\n",
       "      <td>es.alberiteparticipa</td>\n",
       "      <td>0</td>\n",
       "      <td></td>\n",
       "      <td>COMMUNICATION</td>\n",
       "      <td>alberite participa</td>\n",
       "      <td>fructusoft</td>\n",
       "      <td>fructusoft</td>\n",
       "      <td>descargando esta aplicacion gratuita estara en...</td>\n",
       "      <td>1500040657</td>\n",
       "      <td>1</td>\n",
       "      <td>6002</td>\n",
       "      <td></td>\n",
       "      <td>alberite participa</td>\n",
       "      <td>octavio ruiz espinosa</td>\n",
       "      <td>fructusoft</td>\n",
       "      <td>descargando esta aplicacion gratuita estara en...</td>\n",
       "      <td>3.576279e-07</td>\n",
       "      <td>1.000000</td>\n",
       "    </tr>\n",
       "    <tr>\n",
       "      <th>119600</th>\n",
       "      <td>119600</td>\n",
       "      <td>com.jerryghionis.app</td>\n",
       "      <td>0</td>\n",
       "      <td></td>\n",
       "      <td>Photo Video</td>\n",
       "      <td>jerry ghionis</td>\n",
       "      <td>live portrait</td>\n",
       "      <td>jerryghionis</td>\n",
       "      <td>whether you want to learn photography from jer...</td>\n",
       "      <td>1347708295</td>\n",
       "      <td>1</td>\n",
       "      <td>6008</td>\n",
       "      <td></td>\n",
       "      <td>jerry ghionis</td>\n",
       "      <td>interactive images</td>\n",
       "      <td>ghionis</td>\n",
       "      <td>whether you want to learn photography from jer...</td>\n",
       "      <td>3.576279e-07</td>\n",
       "      <td>1.000000</td>\n",
       "    </tr>\n",
       "    <tr>\n",
       "      <th>254936</th>\n",
       "      <td>254936</td>\n",
       "      <td>mobi.easyorderapp.petruzzi</td>\n",
       "      <td>0</td>\n",
       "      <td></td>\n",
       "      <td>Shopping</td>\n",
       "      <td>petruzzi</td>\n",
       "      <td>easyorder</td>\n",
       "      <td>easyorderapp</td>\n",
       "      <td>ou que vous soyez avec lapplication petruzzi v...</td>\n",
       "      <td>1516182527</td>\n",
       "      <td>1</td>\n",
       "      <td>6024</td>\n",
       "      <td></td>\n",
       "      <td>petruzzi</td>\n",
       "      <td>nicolas petruzzi</td>\n",
       "      <td>easyorderapp</td>\n",
       "      <td>ou que vous soyez avec lapplication de quick p...</td>\n",
       "      <td>3.576279e-07</td>\n",
       "      <td>1.000000</td>\n",
       "    </tr>\n",
       "    <tr>\n",
       "      <th>320324</th>\n",
       "      <td>320324</td>\n",
       "      <td>com.oneminorder.panirpecs</td>\n",
       "      <td>0</td>\n",
       "      <td></td>\n",
       "      <td>Food and Drink</td>\n",
       "      <td>panír pécs</td>\n",
       "      <td>innovair marketing and oneminorder</td>\n",
       "      <td>oneminorder</td>\n",
       "      <td>rendelj gyorsan es egyszeruen a pecsi panir pe...</td>\n",
       "      <td>1503336731</td>\n",
       "      <td>1</td>\n",
       "      <td>6023</td>\n",
       "      <td></td>\n",
       "      <td>panír pécs</td>\n",
       "      <td>attila antal gur</td>\n",
       "      <td>oneminorder</td>\n",
       "      <td>rendelj gyorsan es egyszeruen a pecsi panir pe...</td>\n",
       "      <td>3.576279e-07</td>\n",
       "      <td>1.000000</td>\n",
       "    </tr>\n",
       "    <tr>\n",
       "      <th>...</th>\n",
       "      <td>...</td>\n",
       "      <td>...</td>\n",
       "      <td>...</td>\n",
       "      <td>...</td>\n",
       "      <td>...</td>\n",
       "      <td>...</td>\n",
       "      <td>...</td>\n",
       "      <td>...</td>\n",
       "      <td>...</td>\n",
       "      <td>...</td>\n",
       "      <td>...</td>\n",
       "      <td>...</td>\n",
       "      <td>...</td>\n",
       "      <td>...</td>\n",
       "      <td>...</td>\n",
       "      <td>...</td>\n",
       "      <td>...</td>\n",
       "      <td>...</td>\n",
       "      <td>...</td>\n",
       "    </tr>\n",
       "    <tr>\n",
       "      <th>374324</th>\n",
       "      <td>374324</td>\n",
       "      <td>com.subsplash.thechurchapp.s_D2XKGD</td>\n",
       "      <td>0</td>\n",
       "      <td></td>\n",
       "      <td>Education</td>\n",
       "      <td>mycbc - easley sc</td>\n",
       "      <td>subsplash</td>\n",
       "      <td>subsplash</td>\n",
       "      <td>mycbc is created for the local community and c...</td>\n",
       "      <td>1455397027</td>\n",
       "      <td>1</td>\n",
       "      <td>6017</td>\n",
       "      <td></td>\n",
       "      <td>victory church il</td>\n",
       "      <td>victory christian ministries</td>\n",
       "      <td>subsplash</td>\n",
       "      <td>victory church exists to see people saved heal...</td>\n",
       "      <td>4.903960e-01</td>\n",
       "      <td>0.509604</td>\n",
       "    </tr>\n",
       "    <tr>\n",
       "      <th>133598</th>\n",
       "      <td>133598</td>\n",
       "      <td>com.qcsaq200.afllv833</td>\n",
       "      <td>0</td>\n",
       "      <td></td>\n",
       "      <td>Health and Fitness</td>\n",
       "      <td>egg recipes</td>\n",
       "      <td>nadiadev</td>\n",
       "      <td></td>\n",
       "      <td>egg recipesin this app you can see this topic ...</td>\n",
       "      <td>1390362383</td>\n",
       "      <td>1</td>\n",
       "      <td>6023</td>\n",
       "      <td></td>\n",
       "      <td>hindi recipes</td>\n",
       "      <td>vinod m</td>\n",
       "      <td>bomosi</td>\n",
       "      <td>recipes in hindi language hindi recipes app is...</td>\n",
       "      <td>4.905835e-01</td>\n",
       "      <td>0.509416</td>\n",
       "    </tr>\n",
       "    <tr>\n",
       "      <th>524940</th>\n",
       "      <td>524940</td>\n",
       "      <td>com.uneedappsenglish.to.english.dictionary</td>\n",
       "      <td>0</td>\n",
       "      <td></td>\n",
       "      <td>Education</td>\n",
       "      <td>english dictionary</td>\n",
       "      <td>uneedapps</td>\n",
       "      <td></td>\n",
       "      <td>english dictionary provides the access to the ...</td>\n",
       "      <td>1495124402</td>\n",
       "      <td>1</td>\n",
       "      <td>6000</td>\n",
       "      <td></td>\n",
       "      <td>management dictionary</td>\n",
       "      <td>donik ariyanto</td>\n",
       "      <td>blogspot</td>\n",
       "      <td>this application provides a variety of vocabul...</td>\n",
       "      <td>4.933746e-01</td>\n",
       "      <td>0.506625</td>\n",
       "    </tr>\n",
       "    <tr>\n",
       "      <th>246107</th>\n",
       "      <td>246107</td>\n",
       "      <td>tw.net.sun.ctms.cpdc</td>\n",
       "      <td>0</td>\n",
       "      <td></td>\n",
       "      <td>Games</td>\n",
       "      <td>1314樂學網</td>\n",
       "      <td>sun net technologies</td>\n",
       "      <td>sun</td>\n",
       "      <td>le xue wang  ti gong xue xi zhe ke sui shi sui...</td>\n",
       "      <td>1033044640</td>\n",
       "      <td>1</td>\n",
       "      <td>6017</td>\n",
       "      <td></td>\n",
       "      <td>友心情</td>\n",
       "      <td>tung wah group of hospitals</td>\n",
       "      <td>radioicare</td>\n",
       "      <td>dong hua san yuan radioicareyou xin qing wang ...</td>\n",
       "      <td>4.963650e-01</td>\n",
       "      <td>0.503635</td>\n",
       "    </tr>\n",
       "    <tr>\n",
       "      <th>579153</th>\n",
       "      <td>579153</td>\n",
       "      <td>com.word.puzzle.hangman.poem</td>\n",
       "      <td>0</td>\n",
       "      <td></td>\n",
       "      <td>Games</td>\n",
       "      <td>hangman</td>\n",
       "      <td>worzzle</td>\n",
       "      <td></td>\n",
       "      <td>classic hangman word game download now</td>\n",
       "      <td>737469136</td>\n",
       "      <td>1</td>\n",
       "      <td>6014</td>\n",
       "      <td></td>\n",
       "      <td>enigma</td>\n",
       "      <td>mark morrill</td>\n",
       "      <td>facebook</td>\n",
       "      <td>enigma is a word guessing game like hang man e...</td>\n",
       "      <td>4.994285e-01</td>\n",
       "      <td>0.500571</td>\n",
       "    </tr>\n",
       "  </tbody>\n",
       "</table>\n",
       "<p>99515 rows × 19 columns</p>\n",
       "</div>"
      ],
      "text/plain": [
       "         index                                        id_x  store_x  \\\n",
       "257787  257787                 com.inmystream.verahitradio        0   \n",
       "255562  255562                        es.alberiteparticipa        0   \n",
       "119600  119600                        com.jerryghionis.app        0   \n",
       "254936  254936                  mobi.easyorderapp.petruzzi        0   \n",
       "320324  320324                   com.oneminorder.panirpecs        0   \n",
       "...        ...                                         ...      ...   \n",
       "374324  374324         com.subsplash.thechurchapp.s_D2XKGD        0   \n",
       "133598  133598                       com.qcsaq200.afllv833        0   \n",
       "524940  524940  com.uneedappsenglish.to.english.dictionary        0   \n",
       "246107  246107                        tw.net.sun.ctms.cpdc        0   \n",
       "579153  579153                com.word.puzzle.hangman.poem        0   \n",
       "\n",
       "       apple_maincategory_x google_maincategory_x             title_x  \\\n",
       "257787                                      Music      vera hit radio   \n",
       "255562                              COMMUNICATION  alberite participa   \n",
       "119600                                Photo Video       jerry ghionis   \n",
       "254936                                   Shopping            petruzzi   \n",
       "320324                             Food and Drink          panír pécs   \n",
       "...                     ...                   ...                 ...   \n",
       "374324                                  Education   mycbc - easley sc   \n",
       "133598                         Health and Fitness         egg recipes   \n",
       "524940                                  Education  english dictionary   \n",
       "246107                                      Games             1314樂學網   \n",
       "579153                                      Games             hangman   \n",
       "\n",
       "                                  author_x     devsite_x  \\\n",
       "257787                          inmystream  verahitradio   \n",
       "255562                          fructusoft    fructusoft   \n",
       "119600                       live portrait  jerryghionis   \n",
       "254936                           easyorder  easyorderapp   \n",
       "320324  innovair marketing and oneminorder   oneminorder   \n",
       "...                                    ...           ...   \n",
       "374324                           subsplash     subsplash   \n",
       "133598                            nadiadev                 \n",
       "524940                           uneedapps                 \n",
       "246107                sun net technologies           sun   \n",
       "579153                             worzzle                 \n",
       "\n",
       "                                            description_x        id_y  \\\n",
       "257787  la radio delle hits che hanno fatto e faranno ...  1450361738   \n",
       "255562  descargando esta aplicacion gratuita estara en...  1500040657   \n",
       "119600  whether you want to learn photography from jer...  1347708295   \n",
       "254936  ou que vous soyez avec lapplication petruzzi v...  1516182527   \n",
       "320324  rendelj gyorsan es egyszeruen a pecsi panir pe...  1503336731   \n",
       "...                                                   ...         ...   \n",
       "374324  mycbc is created for the local community and c...  1455397027   \n",
       "133598  egg recipesin this app you can see this topic ...  1390362383   \n",
       "524940  english dictionary provides the access to the ...  1495124402   \n",
       "246107  le xue wang  ti gong xue xi zhe ke sui shi sui...  1033044640   \n",
       "579153             classic hangman word game download now   737469136   \n",
       "\n",
       "        store_y  apple_maincategory_y google_maincategory_y  \\\n",
       "257787        1                  6016                         \n",
       "255562        1                  6002                         \n",
       "119600        1                  6008                         \n",
       "254936        1                  6024                         \n",
       "320324        1                  6023                         \n",
       "...         ...                   ...                   ...   \n",
       "374324        1                  6017                         \n",
       "133598        1                  6023                         \n",
       "524940        1                  6000                         \n",
       "246107        1                  6017                         \n",
       "579153        1                  6014                         \n",
       "\n",
       "                      title_y                      author_y     devsite_y  \\\n",
       "257787         vera hit radio               andrea giordano  verahitradio   \n",
       "255562     alberite participa         octavio ruiz espinosa    fructusoft   \n",
       "119600          jerry ghionis            interactive images       ghionis   \n",
       "254936               petruzzi              nicolas petruzzi  easyorderapp   \n",
       "320324             panír pécs              attila antal gur   oneminorder   \n",
       "...                       ...                           ...           ...   \n",
       "374324      victory church il  victory christian ministries     subsplash   \n",
       "133598          hindi recipes                       vinod m        bomosi   \n",
       "524940  management dictionary                donik ariyanto      blogspot   \n",
       "246107                    友心情   tung wah group of hospitals    radioicare   \n",
       "579153                 enigma                  mark morrill      facebook   \n",
       "\n",
       "                                            description_y       proba_0  \\\n",
       "257787  la radio delle hits che hanno fatto e faranno ...  3.576279e-07   \n",
       "255562  descargando esta aplicacion gratuita estara en...  3.576279e-07   \n",
       "119600  whether you want to learn photography from jer...  3.576279e-07   \n",
       "254936  ou que vous soyez avec lapplication de quick p...  3.576279e-07   \n",
       "320324  rendelj gyorsan es egyszeruen a pecsi panir pe...  3.576279e-07   \n",
       "...                                                   ...           ...   \n",
       "374324  victory church exists to see people saved heal...  4.903960e-01   \n",
       "133598  recipes in hindi language hindi recipes app is...  4.905835e-01   \n",
       "524940  this application provides a variety of vocabul...  4.933746e-01   \n",
       "246107  dong hua san yuan radioicareyou xin qing wang ...  4.963650e-01   \n",
       "579153  enigma is a word guessing game like hang man e...  4.994285e-01   \n",
       "\n",
       "         proba_1  \n",
       "257787  1.000000  \n",
       "255562  1.000000  \n",
       "119600  1.000000  \n",
       "254936  1.000000  \n",
       "320324  1.000000  \n",
       "...          ...  \n",
       "374324  0.509604  \n",
       "133598  0.509416  \n",
       "524940  0.506625  \n",
       "246107  0.503635  \n",
       "579153  0.500571  \n",
       "\n",
       "[99515 rows x 19 columns]"
      ]
     },
     "execution_count": 541,
     "metadata": {},
     "output_type": "execute_result"
    }
   ],
   "source": [
    "similar_couples_data.sort_values(['proba_1'],ascending=False).groupby('id_x').head(3)"
   ]
  },
  {
   "cell_type": "markdown",
   "metadata": {},
   "source": [
    "## Checking for module result unmatched apps with similar title"
   ]
  },
  {
   "cell_type": "code",
   "execution_count": 514,
   "metadata": {},
   "outputs": [],
   "source": [
    "all_big_data_matched_title_1_index = all_big_data_matched[all_big_data_matched['title_similarity'] == 1].index\n",
    "y_pred_big_1_index = np.where(y_pred_big == 1)[0]\n",
    "missed_titles_indexes = np.array([x for x in all_big_data_matched_title_1_index if x not in y_pred_big_1_index])"
   ]
  },
  {
   "cell_type": "code",
   "execution_count": 515,
   "metadata": {},
   "outputs": [],
   "source": [
    "mised_titles_data = all_big_data.iloc[missed_titles_indexes]\n",
    "mised_titles_similarties = all_big_data_matched.iloc[missed_titles_indexes]\n"
   ]
  },
  {
   "cell_type": "code",
   "execution_count": 516,
   "metadata": {},
   "outputs": [],
   "source": [
    "matched_title_pred_1 = all_big_data_matched.loc[np.where(y_pred_big == 1)[0]]"
   ]
  },
  {
   "cell_type": "code",
   "execution_count": 517,
   "metadata": {},
   "outputs": [
    {
     "data": {
      "text/plain": [
       "Text(0.5, 1.0, 'Author')"
      ]
     },
     "execution_count": 517,
     "metadata": {},
     "output_type": "execute_result"
    },
    {
     "data": {
      "image/png": "[encoded data removed]",
      "text/plain": [
       "<Figure size 1440x360 with 6 Axes>"
      ]
     },
     "metadata": {
      "needs_background": "light"
     },
     "output_type": "display_data"
    }
   ],
   "source": [
    "fig, axs = plt.subplots(1, 3, figsize=(20, 5), sharey=True, tight_layout=True)\n",
    "n_bins = 10\n",
    "alpha = 0.5\n",
    "\n",
    "axs[0].hist(mised_titles_similarties['description_similarity'], bins=n_bins)\n",
    "ax0_twix = axs[0].twinx()\n",
    "ax0_twix.hist(matched_title_pred_1['description_similarity'], alpha=0.5, color='orange', bins=n_bins)\n",
    "axs[0].set_title('Description', fontsize=15)\n",
    "\n",
    "axs[1].hist(mised_titles_similarties['devsite_similarity'], bins=n_bins)\n",
    "ax1_twix = axs[1].twinx()\n",
    "ax1_twix.hist(matched_title_pred_1['devsite_similarity'], alpha=0.5, color='orange', bins=n_bins)\n",
    "axs[1].set_title('Devsite', fontsize=15)\n",
    "\n",
    "axs[2].hist(mised_titles_similarties['author_similarity'], bins=n_bins)\n",
    "ax2_twix = axs[2].twinx()\n",
    "ax2_twix.hist(matched_title_pred_1['author_similarity'], alpha=0.5, color='orange', bins=n_bins)\n",
    "axs[2].set_title('Author', fontsize=15)"
   ]
  },
  {
   "cell_type": "markdown",
   "metadata": {},
   "source": [
    "# Random big data"
   ]
  },
  {
   "cell_type": "code",
   "execution_count": 563,
   "metadata": {},
   "outputs": [
    {
     "name": "stdout",
     "output_type": "stream",
     "text": [
      "CPU times: user 8min 31s, sys: 13.5 s, total: 8min 44s\n",
      "Wall time: 8min 48s\n"
     ]
    }
   ],
   "source": [
    "%%time \n",
    "\n",
    "random_big_data_new_matched = get_matched_dataframe(random_big_data_new)"
   ]
  },
  {
   "cell_type": "code",
   "execution_count": 566,
   "metadata": {},
   "outputs": [
    {
     "name": "stderr",
     "output_type": "stream",
     "text": [
      "/Library/Frameworks/Python.framework/Versions/3.8/lib/python3.8/site-packages/xgboost/data.py:112: UserWarning: Use subset (sliced data) of np.ndarray is not recommended because it will generate extra copies and increase memory consumption\n",
      "  warnings.warn(\n"
     ]
    }
   ],
   "source": [
    "y_pred_random_big_data_new = model_new.predict(random_big_data_new_matched.drop(columns=[\"label\"]))\n",
    "y_prob_random_big_data_new = model_new.predict_proba(random_big_data_new_matched.drop(columns=[\"label\"]))"
   ]
  },
  {
   "cell_type": "code",
   "execution_count": 568,
   "metadata": {},
   "outputs": [],
   "source": [
    "# random_big_data_similar_couples_indexes = np.where(y_pred_random_big_data_new == 1)[0]\n",
    "\n",
    "# random_big_data_similar_couples = random_big_data_new_matched.loc[random_big_data_similar_couples_indexes]\n",
    "# random_big_data_similar_couples_data = random_big_data_new.loc[random_big_data_similar_couples_indexes]\n",
    "# random_big_data_y_proba_similar_couples = y_prob_random_big_data_new[random_big_data_similar_couples_indexes]"
   ]
  },
  {
   "cell_type": "code",
   "execution_count": 576,
   "metadata": {},
   "outputs": [],
   "source": [
    "random_big_data_copy = random_big_data.copy()\n",
    "random_big_data_copy['proba_0'] = y_prob_random_big_data_new[:, 0]\n",
    "random_big_data_copy['proba_1'] = y_prob_random_big_data_new[:, 1]"
   ]
  },
  {
   "cell_type": "code",
   "execution_count": 579,
   "metadata": {},
   "outputs": [
    {
     "data": {
      "text/html": [
       "<div>\n",
       "<style scoped>\n",
       "    .dataframe tbody tr th:only-of-type {\n",
       "        vertical-align: middle;\n",
       "    }\n",
       "\n",
       "    .dataframe tbody tr th {\n",
       "        vertical-align: top;\n",
       "    }\n",
       "\n",
       "    .dataframe thead th {\n",
       "        text-align: right;\n",
       "    }\n",
       "</style>\n",
       "<table border=\"1\" class=\"dataframe\">\n",
       "  <thead>\n",
       "    <tr style=\"text-align: right;\">\n",
       "      <th></th>\n",
       "      <th>index</th>\n",
       "      <th>id_x</th>\n",
       "      <th>store_x</th>\n",
       "      <th>apple_maincategory_x</th>\n",
       "      <th>google_maincategory_x</th>\n",
       "      <th>title_x</th>\n",
       "      <th>author_x</th>\n",
       "      <th>devsite_x</th>\n",
       "      <th>description_x</th>\n",
       "      <th>id_y</th>\n",
       "      <th>store_y</th>\n",
       "      <th>apple_maincategory_y</th>\n",
       "      <th>google_maincategory_y</th>\n",
       "      <th>title_y</th>\n",
       "      <th>author_y</th>\n",
       "      <th>devsite_y</th>\n",
       "      <th>description_y</th>\n",
       "      <th>proba_0</th>\n",
       "      <th>proba_1</th>\n",
       "    </tr>\n",
       "  </thead>\n",
       "  <tbody>\n",
       "    <tr>\n",
       "      <th>606000</th>\n",
       "      <td>606000</td>\n",
       "      <td>com.ctconnect.betshean</td>\n",
       "      <td>0</td>\n",
       "      <td></td>\n",
       "      <td>TOOLS</td>\n",
       "      <td>בית</td>\n",
       "      <td>ctconnect</td>\n",
       "      <td>ctconnect</td>\n",
       "      <td>haplyqtsyh hrshmyt shl yryyt byt shan\\n\\nhshyr...</td>\n",
       "      <td>980196807</td>\n",
       "      <td>1</td>\n",
       "      <td>6007</td>\n",
       "      <td></td>\n",
       "      <td>timelime</td>\n",
       "      <td>niko</td>\n",
       "      <td>timelimeapp</td>\n",
       "      <td>with timelime for iphone you can easily track ...</td>\n",
       "      <td>0.999990</td>\n",
       "      <td>0.000010</td>\n",
       "    </tr>\n",
       "    <tr>\n",
       "      <th>606001</th>\n",
       "      <td>606001</td>\n",
       "      <td>com.ctconnect.betshean</td>\n",
       "      <td>0</td>\n",
       "      <td></td>\n",
       "      <td>TOOLS</td>\n",
       "      <td>בית</td>\n",
       "      <td>ctconnect</td>\n",
       "      <td>ctconnect</td>\n",
       "      <td>haplyqtsyh hrshmyt shl yryyt byt shan\\n\\nhshyr...</td>\n",
       "      <td>980196880</td>\n",
       "      <td>1</td>\n",
       "      <td>6000</td>\n",
       "      <td></td>\n",
       "      <td>los</td>\n",
       "      <td>busca-ayuda.com</td>\n",
       "      <td>loslupes</td>\n",
       "      <td>los lupes started to operate in  on the corner...</td>\n",
       "      <td>0.999947</td>\n",
       "      <td>0.000053</td>\n",
       "    </tr>\n",
       "    <tr>\n",
       "      <th>606002</th>\n",
       "      <td>606002</td>\n",
       "      <td>com.ctconnect.betshean</td>\n",
       "      <td>0</td>\n",
       "      <td></td>\n",
       "      <td>TOOLS</td>\n",
       "      <td>בית</td>\n",
       "      <td>ctconnect</td>\n",
       "      <td>ctconnect</td>\n",
       "      <td>haplyqtsyh hrshmyt shl yryyt byt shan\\n\\nhshyr...</td>\n",
       "      <td>980196905</td>\n",
       "      <td>1</td>\n",
       "      <td>6016</td>\n",
       "      <td></td>\n",
       "      <td>芸人検定</td>\n",
       "      <td>yoshihiro</td>\n",
       "      <td>sweetdoctor</td>\n",
       "      <td>nannotsu \\npisutachionoshi jie hegozhao dai it...</td>\n",
       "      <td>0.999985</td>\n",
       "      <td>0.000015</td>\n",
       "    </tr>\n",
       "    <tr>\n",
       "      <th>606003</th>\n",
       "      <td>606003</td>\n",
       "      <td>com.ctconnect.betshean</td>\n",
       "      <td>0</td>\n",
       "      <td></td>\n",
       "      <td>TOOLS</td>\n",
       "      <td>בית</td>\n",
       "      <td>ctconnect</td>\n",
       "      <td>ctconnect</td>\n",
       "      <td>haplyqtsyh hrshmyt shl yryyt byt shan\\n\\nhshyr...</td>\n",
       "      <td>980196941</td>\n",
       "      <td>1</td>\n",
       "      <td>6004</td>\n",
       "      <td></td>\n",
       "      <td>ゴルフの法則クイズ</td>\n",
       "      <td>kiyoyuki</td>\n",
       "      <td>fc2</td>\n",
       "      <td>anataha goruhunofa ze wodonokuraizhi tsutemasu...</td>\n",
       "      <td>0.999859</td>\n",
       "      <td>0.000141</td>\n",
       "    </tr>\n",
       "    <tr>\n",
       "      <th>606004</th>\n",
       "      <td>606004</td>\n",
       "      <td>com.ctconnect.betshean</td>\n",
       "      <td>0</td>\n",
       "      <td></td>\n",
       "      <td>TOOLS</td>\n",
       "      <td>בית</td>\n",
       "      <td>ctconnect</td>\n",
       "      <td>ctconnect</td>\n",
       "      <td>haplyqtsyh hrshmyt shl yryyt byt shan\\n\\nhshyr...</td>\n",
       "      <td>980196971</td>\n",
       "      <td>1</td>\n",
       "      <td>6002</td>\n",
       "      <td></td>\n",
       "      <td>trafikensuche</td>\n",
       "      <td>monopolverwaltung</td>\n",
       "      <td>mvg</td>\n",
       "      <td>holen sie sich jetzt die offizielle trafikensu...</td>\n",
       "      <td>0.999939</td>\n",
       "      <td>0.000061</td>\n",
       "    </tr>\n",
       "    <tr>\n",
       "      <th>...</th>\n",
       "      <td>...</td>\n",
       "      <td>...</td>\n",
       "      <td>...</td>\n",
       "      <td>...</td>\n",
       "      <td>...</td>\n",
       "      <td>...</td>\n",
       "      <td>...</td>\n",
       "      <td>...</td>\n",
       "      <td>...</td>\n",
       "      <td>...</td>\n",
       "      <td>...</td>\n",
       "      <td>...</td>\n",
       "      <td>...</td>\n",
       "      <td>...</td>\n",
       "      <td>...</td>\n",
       "      <td>...</td>\n",
       "      <td>...</td>\n",
       "      <td>...</td>\n",
       "      <td>...</td>\n",
       "    </tr>\n",
       "    <tr>\n",
       "      <th>606995</th>\n",
       "      <td>606995</td>\n",
       "      <td>com.ctconnect.betshean</td>\n",
       "      <td>0</td>\n",
       "      <td></td>\n",
       "      <td>TOOLS</td>\n",
       "      <td>בית</td>\n",
       "      <td>ctconnect</td>\n",
       "      <td>ctconnect</td>\n",
       "      <td>haplyqtsyh hrshmyt shl yryyt byt shan\\n\\nhshyr...</td>\n",
       "      <td>1112034516</td>\n",
       "      <td>1</td>\n",
       "      <td>6016</td>\n",
       "      <td></td>\n",
       "      <td>攻略ニュースまとめ</td>\n",
       "      <td>hiroya</td>\n",
       "      <td>bit</td>\n",
       "      <td>shi kuang pawahurupuroye qiu pawapurosakusesus...</td>\n",
       "      <td>0.999873</td>\n",
       "      <td>0.000127</td>\n",
       "    </tr>\n",
       "    <tr>\n",
       "      <th>606996</th>\n",
       "      <td>606996</td>\n",
       "      <td>com.ctconnect.betshean</td>\n",
       "      <td>0</td>\n",
       "      <td></td>\n",
       "      <td>TOOLS</td>\n",
       "      <td>בית</td>\n",
       "      <td>ctconnect</td>\n",
       "      <td>ctconnect</td>\n",
       "      <td>haplyqtsyh hrshmyt shl yryyt byt shan\\n\\nhshyr...</td>\n",
       "      <td>1112035031</td>\n",
       "      <td>1</td>\n",
       "      <td>6002</td>\n",
       "      <td></td>\n",
       "      <td>bnetfax</td>\n",
       "      <td>hangzhou</td>\n",
       "      <td>hzdracom</td>\n",
       "      <td>shi yao shi zhong guo dian xin shou ji chuan z...</td>\n",
       "      <td>0.997679</td>\n",
       "      <td>0.002321</td>\n",
       "    </tr>\n",
       "    <tr>\n",
       "      <th>606997</th>\n",
       "      <td>606997</td>\n",
       "      <td>com.ctconnect.betshean</td>\n",
       "      <td>0</td>\n",
       "      <td></td>\n",
       "      <td>TOOLS</td>\n",
       "      <td>בית</td>\n",
       "      <td>ctconnect</td>\n",
       "      <td>ctconnect</td>\n",
       "      <td>haplyqtsyh hrshmyt shl yryyt byt shan\\n\\nhshyr...</td>\n",
       "      <td>1112035423</td>\n",
       "      <td>1</td>\n",
       "      <td>6003</td>\n",
       "      <td></td>\n",
       "      <td>muji</td>\n",
       "      <td>qup</td>\n",
       "      <td>qupworld</td>\n",
       "      <td>its now easy and hassle  free to take a ride b...</td>\n",
       "      <td>0.999997</td>\n",
       "      <td>0.000003</td>\n",
       "    </tr>\n",
       "    <tr>\n",
       "      <th>606998</th>\n",
       "      <td>606998</td>\n",
       "      <td>com.ctconnect.betshean</td>\n",
       "      <td>0</td>\n",
       "      <td></td>\n",
       "      <td>TOOLS</td>\n",
       "      <td>בית</td>\n",
       "      <td>ctconnect</td>\n",
       "      <td>ctconnect</td>\n",
       "      <td>haplyqtsyh hrshmyt shl yryyt byt shan\\n\\nhshyr...</td>\n",
       "      <td>1112035428</td>\n",
       "      <td>1</td>\n",
       "      <td>6003</td>\n",
       "      <td></td>\n",
       "      <td>muji</td>\n",
       "      <td>qup</td>\n",
       "      <td>qupworld</td>\n",
       "      <td>muji driver is an ideal moneyearning tool for ...</td>\n",
       "      <td>0.999997</td>\n",
       "      <td>0.000003</td>\n",
       "    </tr>\n",
       "    <tr>\n",
       "      <th>606999</th>\n",
       "      <td>606999</td>\n",
       "      <td>com.ctconnect.betshean</td>\n",
       "      <td>0</td>\n",
       "      <td></td>\n",
       "      <td>TOOLS</td>\n",
       "      <td>בית</td>\n",
       "      <td>ctconnect</td>\n",
       "      <td>ctconnect</td>\n",
       "      <td>haplyqtsyh hrshmyt shl yryyt byt shan\\n\\nhshyr...</td>\n",
       "      <td>1112036551</td>\n",
       "      <td>1</td>\n",
       "      <td>6017</td>\n",
       "      <td></td>\n",
       "      <td>租来租趣</td>\n",
       "      <td>江苏租来租趣商贸有限公司</td>\n",
       "      <td>zulzuq</td>\n",
       "      <td>zu lai zu qu  shi ji yi xian pin pai wan ju  y...</td>\n",
       "      <td>0.999134</td>\n",
       "      <td>0.000866</td>\n",
       "    </tr>\n",
       "  </tbody>\n",
       "</table>\n",
       "<p>1000 rows × 19 columns</p>\n",
       "</div>"
      ],
      "text/plain": [
       "         index                    id_x  store_x apple_maincategory_x  \\\n",
       "606000  606000  com.ctconnect.betshean        0                        \n",
       "606001  606001  com.ctconnect.betshean        0                        \n",
       "606002  606002  com.ctconnect.betshean        0                        \n",
       "606003  606003  com.ctconnect.betshean        0                        \n",
       "606004  606004  com.ctconnect.betshean        0                        \n",
       "...        ...                     ...      ...                  ...   \n",
       "606995  606995  com.ctconnect.betshean        0                        \n",
       "606996  606996  com.ctconnect.betshean        0                        \n",
       "606997  606997  com.ctconnect.betshean        0                        \n",
       "606998  606998  com.ctconnect.betshean        0                        \n",
       "606999  606999  com.ctconnect.betshean        0                        \n",
       "\n",
       "       google_maincategory_x title_x   author_x  devsite_x  \\\n",
       "606000                 TOOLS     בית  ctconnect  ctconnect   \n",
       "606001                 TOOLS     בית  ctconnect  ctconnect   \n",
       "606002                 TOOLS     בית  ctconnect  ctconnect   \n",
       "606003                 TOOLS     בית  ctconnect  ctconnect   \n",
       "606004                 TOOLS     בית  ctconnect  ctconnect   \n",
       "...                      ...     ...        ...        ...   \n",
       "606995                 TOOLS     בית  ctconnect  ctconnect   \n",
       "606996                 TOOLS     בית  ctconnect  ctconnect   \n",
       "606997                 TOOLS     בית  ctconnect  ctconnect   \n",
       "606998                 TOOLS     בית  ctconnect  ctconnect   \n",
       "606999                 TOOLS     בית  ctconnect  ctconnect   \n",
       "\n",
       "                                            description_x        id_y  \\\n",
       "606000  haplyqtsyh hrshmyt shl yryyt byt shan\\n\\nhshyr...   980196807   \n",
       "606001  haplyqtsyh hrshmyt shl yryyt byt shan\\n\\nhshyr...   980196880   \n",
       "606002  haplyqtsyh hrshmyt shl yryyt byt shan\\n\\nhshyr...   980196905   \n",
       "606003  haplyqtsyh hrshmyt shl yryyt byt shan\\n\\nhshyr...   980196941   \n",
       "606004  haplyqtsyh hrshmyt shl yryyt byt shan\\n\\nhshyr...   980196971   \n",
       "...                                                   ...         ...   \n",
       "606995  haplyqtsyh hrshmyt shl yryyt byt shan\\n\\nhshyr...  1112034516   \n",
       "606996  haplyqtsyh hrshmyt shl yryyt byt shan\\n\\nhshyr...  1112035031   \n",
       "606997  haplyqtsyh hrshmyt shl yryyt byt shan\\n\\nhshyr...  1112035423   \n",
       "606998  haplyqtsyh hrshmyt shl yryyt byt shan\\n\\nhshyr...  1112035428   \n",
       "606999  haplyqtsyh hrshmyt shl yryyt byt shan\\n\\nhshyr...  1112036551   \n",
       "\n",
       "        store_y  apple_maincategory_y google_maincategory_y        title_y  \\\n",
       "606000        1                  6007                             timelime   \n",
       "606001        1                  6000                                  los   \n",
       "606002        1                  6016                                 芸人検定   \n",
       "606003        1                  6004                            ゴルフの法則クイズ   \n",
       "606004        1                  6002                        trafikensuche   \n",
       "...         ...                   ...                   ...            ...   \n",
       "606995        1                  6016                            攻略ニュースまとめ   \n",
       "606996        1                  6002                              bnetfax   \n",
       "606997        1                  6003                                 muji   \n",
       "606998        1                  6003                                 muji   \n",
       "606999        1                  6017                                 租来租趣   \n",
       "\n",
       "                 author_y    devsite_y  \\\n",
       "606000               niko  timelimeapp   \n",
       "606001    busca-ayuda.com     loslupes   \n",
       "606002          yoshihiro  sweetdoctor   \n",
       "606003           kiyoyuki          fc2   \n",
       "606004  monopolverwaltung          mvg   \n",
       "...                   ...          ...   \n",
       "606995             hiroya          bit   \n",
       "606996           hangzhou     hzdracom   \n",
       "606997                qup     qupworld   \n",
       "606998                qup     qupworld   \n",
       "606999       江苏租来租趣商贸有限公司       zulzuq   \n",
       "\n",
       "                                            description_y   proba_0   proba_1  \n",
       "606000  with timelime for iphone you can easily track ...  0.999990  0.000010  \n",
       "606001  los lupes started to operate in  on the corner...  0.999947  0.000053  \n",
       "606002  nannotsu \\npisutachionoshi jie hegozhao dai it...  0.999985  0.000015  \n",
       "606003  anataha goruhunofa ze wodonokuraizhi tsutemasu...  0.999859  0.000141  \n",
       "606004  holen sie sich jetzt die offizielle trafikensu...  0.999939  0.000061  \n",
       "...                                                   ...       ...       ...  \n",
       "606995  shi kuang pawahurupuroye qiu pawapurosakusesus...  0.999873  0.000127  \n",
       "606996  shi yao shi zhong guo dian xin shou ji chuan z...  0.997679  0.002321  \n",
       "606997  its now easy and hassle  free to take a ride b...  0.999997  0.000003  \n",
       "606998  muji driver is an ideal moneyearning tool for ...  0.999997  0.000003  \n",
       "606999  zu lai zu qu  shi ji yi xian pin pai wan ju  y...  0.999134  0.000866  \n",
       "\n",
       "[1000 rows x 19 columns]"
      ]
     },
     "execution_count": 579,
     "metadata": {},
     "output_type": "execute_result"
    }
   ],
   "source": [
    "random_big_data_copy[random_big_data_copy[\"id_x\"] == \"com.ctconnect.betshean\"]\t"
   ]
  },
  {
   "cell_type": "code",
   "execution_count": 597,
   "metadata": {},
   "outputs": [
    {
     "data": {
      "text/html": [
       "<div>\n",
       "<style scoped>\n",
       "    .dataframe tbody tr th:only-of-type {\n",
       "        vertical-align: middle;\n",
       "    }\n",
       "\n",
       "    .dataframe tbody tr th {\n",
       "        vertical-align: top;\n",
       "    }\n",
       "\n",
       "    .dataframe thead th {\n",
       "        text-align: right;\n",
       "    }\n",
       "</style>\n",
       "<table border=\"1\" class=\"dataframe\">\n",
       "  <thead>\n",
       "    <tr style=\"text-align: right;\">\n",
       "      <th></th>\n",
       "      <th>id_x</th>\n",
       "      <th>id_y</th>\n",
       "      <th>proba_1</th>\n",
       "    </tr>\n",
       "  </thead>\n",
       "  <tbody>\n",
       "    <tr>\n",
       "      <th>590803</th>\n",
       "      <td>zw.co.cowork.club.androidoverview</td>\n",
       "      <td>1111925704</td>\n",
       "      <td>0.999872</td>\n",
       "    </tr>\n",
       "    <tr>\n",
       "      <th>590987</th>\n",
       "      <td>zw.co.cowork.club.androidoverview</td>\n",
       "      <td>1112029170</td>\n",
       "      <td>0.006156</td>\n",
       "    </tr>\n",
       "    <tr>\n",
       "      <th>590681</th>\n",
       "      <td>zw.co.cowork.club.androidoverview</td>\n",
       "      <td>1111842975</td>\n",
       "      <td>0.004962</td>\n",
       "    </tr>\n",
       "    <tr>\n",
       "      <th>38454</th>\n",
       "      <td>zero.qcash.syria</td>\n",
       "      <td>980533710</td>\n",
       "      <td>0.005662</td>\n",
       "    </tr>\n",
       "    <tr>\n",
       "      <th>38555</th>\n",
       "      <td>zero.qcash.syria</td>\n",
       "      <td>980583194</td>\n",
       "      <td>0.005662</td>\n",
       "    </tr>\n",
       "    <tr>\n",
       "      <th>38725</th>\n",
       "      <td>zero.qcash.syria</td>\n",
       "      <td>1111873503</td>\n",
       "      <td>0.005662</td>\n",
       "    </tr>\n",
       "    <tr>\n",
       "      <th>447003</th>\n",
       "      <td>zentres.bieshof</td>\n",
       "      <td>980196941</td>\n",
       "      <td>0.003007</td>\n",
       "    </tr>\n",
       "    <tr>\n",
       "      <th>447451</th>\n",
       "      <td>zentres.bieshof</td>\n",
       "      <td>980532310</td>\n",
       "      <td>0.003007</td>\n",
       "    </tr>\n",
       "    <tr>\n",
       "      <th>447633</th>\n",
       "      <td>zentres.bieshof</td>\n",
       "      <td>1111831185</td>\n",
       "      <td>0.002369</td>\n",
       "    </tr>\n",
       "    <tr>\n",
       "      <th>134907</th>\n",
       "      <td>za.co.glowlight.sweeread1</td>\n",
       "      <td>1111955273</td>\n",
       "      <td>0.020461</td>\n",
       "    </tr>\n",
       "    <tr>\n",
       "      <th>134943</th>\n",
       "      <td>za.co.glowlight.sweeread1</td>\n",
       "      <td>1111998966</td>\n",
       "      <td>0.014910</td>\n",
       "    </tr>\n",
       "    <tr>\n",
       "      <th>134395</th>\n",
       "      <td>za.co.glowlight.sweeread1</td>\n",
       "      <td>980495021</td>\n",
       "      <td>0.010500</td>\n",
       "    </tr>\n",
       "    <tr>\n",
       "      <th>32960</th>\n",
       "      <td>yuya.oppai2</td>\n",
       "      <td>1112008855</td>\n",
       "      <td>0.008161</td>\n",
       "    </tr>\n",
       "    <tr>\n",
       "      <th>32823</th>\n",
       "      <td>yuya.oppai2</td>\n",
       "      <td>1111934382</td>\n",
       "      <td>0.005859</td>\n",
       "    </tr>\n",
       "    <tr>\n",
       "      <th>32665</th>\n",
       "      <td>yuya.oppai2</td>\n",
       "      <td>1111838067</td>\n",
       "      <td>0.005535</td>\n",
       "    </tr>\n",
       "    <tr>\n",
       "      <th>699612</th>\n",
       "      <td>yoga.music.radio</td>\n",
       "      <td>1111820164</td>\n",
       "      <td>0.232541</td>\n",
       "    </tr>\n",
       "    <tr>\n",
       "      <th>699454</th>\n",
       "      <td>yoga.music.radio</td>\n",
       "      <td>980533710</td>\n",
       "      <td>0.007971</td>\n",
       "    </tr>\n",
       "    <tr>\n",
       "      <th>699755</th>\n",
       "      <td>yoga.music.radio</td>\n",
       "      <td>1111887373</td>\n",
       "      <td>0.006516</td>\n",
       "    </tr>\n",
       "    <tr>\n",
       "      <th>342636</th>\n",
       "      <td>www.jbdelivery.com.br</td>\n",
       "      <td>1111832222</td>\n",
       "      <td>0.021426</td>\n",
       "    </tr>\n",
       "    <tr>\n",
       "      <th>342020</th>\n",
       "      <td>www.jbdelivery.com.br</td>\n",
       "      <td>980203660</td>\n",
       "      <td>0.016981</td>\n",
       "    </tr>\n",
       "  </tbody>\n",
       "</table>\n",
       "</div>"
      ],
      "text/plain": [
       "                                     id_x        id_y   proba_1\n",
       "590803  zw.co.cowork.club.androidoverview  1111925704  0.999872\n",
       "590987  zw.co.cowork.club.androidoverview  1112029170  0.006156\n",
       "590681  zw.co.cowork.club.androidoverview  1111842975  0.004962\n",
       "38454                    zero.qcash.syria   980533710  0.005662\n",
       "38555                    zero.qcash.syria   980583194  0.005662\n",
       "38725                    zero.qcash.syria  1111873503  0.005662\n",
       "447003                    zentres.bieshof   980196941  0.003007\n",
       "447451                    zentres.bieshof   980532310  0.003007\n",
       "447633                    zentres.bieshof  1111831185  0.002369\n",
       "134907          za.co.glowlight.sweeread1  1111955273  0.020461\n",
       "134943          za.co.glowlight.sweeread1  1111998966  0.014910\n",
       "134395          za.co.glowlight.sweeread1   980495021  0.010500\n",
       "32960                         yuya.oppai2  1112008855  0.008161\n",
       "32823                         yuya.oppai2  1111934382  0.005859\n",
       "32665                         yuya.oppai2  1111838067  0.005535\n",
       "699612                   yoga.music.radio  1111820164  0.232541\n",
       "699454                   yoga.music.radio   980533710  0.007971\n",
       "699755                   yoga.music.radio  1111887373  0.006516\n",
       "342636              www.jbdelivery.com.br  1111832222  0.021426\n",
       "342020              www.jbdelivery.com.br   980203660  0.016981"
      ]
     },
     "execution_count": 597,
     "metadata": {},
     "output_type": "execute_result"
    }
   ],
   "source": [
    "xxx = random_big_data_copy.sort_values(['id_x', 'proba_1'],ascending=False).groupby('id_x').head(3)\n",
    "xxx[[\"id_x\", \"id_y\", \"proba_1\"]].head(20)"
   ]
  },
  {
   "cell_type": "markdown",
   "metadata": {},
   "source": [
    "## Exploring the positive values proba distribution"
   ]
  },
  {
   "cell_type": "code",
   "execution_count": 484,
   "metadata": {},
   "outputs": [
    {
     "data": {
      "image/png": "[encoded data removed]",
      "text/plain": [
       "<Figure size 504x504 with 1 Axes>"
      ]
     },
     "metadata": {},
     "output_type": "display_data"
    }
   ],
   "source": [
    "pos_preds = np.where(y_pred_crossed_new == 1)[0]\n",
    "pos_scores = y_pred_crossed_new_prob[pos_preds]\n",
    "pos_scores_1 = pos_scores[:, 1]\n",
    "ranges = [0.5, 0.6, 0.7, 0.8, 0.9, 1.01] # should be even\n",
    "sum_in_ranges = []\n",
    "\n",
    "for rnge_index in range(len(ranges) - 1):\n",
    "    range_sum = ((pos_scores_1 >= ranges[rnge_index]) & (pos_scores_1 < ranges[rnge_index+1])).sum()\n",
    "    sum_in_ranges.append(range_sum)\n",
    "\n",
    "fig1, ax1 = plt.subplots(figsize=(7, 7))\n",
    "ax1.pie(sum_in_ranges, autopct='%1.1f%%', labels=['0.5-0.6', '0.6-0.7', '0.7-0.8', '0.8-0.9', '0.9-1.1'],  textprops={'color':\"w\"})\n",
    "\n",
    "plt.show()"
   ]
  },
  {
   "cell_type": "code",
   "execution_count": 409,
   "metadata": {},
   "outputs": [],
   "source": [
    "# # 113\n",
    "# from IPython.display import display, HTML\n",
    "\n",
    "# i = 0\n",
    "\n",
    "# for index in np.where(y_pred_crossed_new == 1)[0]:\n",
    "#     score = crossed_all_data_matched_new[crossed_all_data_matched_new.index == index]\n",
    "#     score_copy = score.copy()\n",
    "    \n",
    "#     score_copy[\"prob_0\"] = y_pred_corssed_new_prob[index][0]\n",
    "#     score_copy[\"prob_1\"] = y_pred_corssed_new_prob[index][1]\n",
    "\n",
    "#     # if score_copy[\"prob_0\"].values[0] > score_copy[\"prob_1\"].values[0]:\n",
    "#     i += 1\n",
    "#     print(i)\n",
    "#     row = crossed_all_data_new[crossed_all_data_new.index == index]\n",
    "    \n",
    "#     display(HTML(score_copy.to_html()))\n",
    "#     display(HTML(row[crossed_all_data_new.columns.drop(['description_x', 'description_y'])].to_html()))\n",
    "#         # display(HTML(row[['description_x', 'description_y']].to_html()))\n",
    "#         # print('\\n\\n\\n')"
   ]
  },
  {
   "cell_type": "markdown",
   "metadata": {},
   "source": [
    "# PCA"
   ]
  },
  {
   "cell_type": "code",
   "execution_count": 54,
   "metadata": {},
   "outputs": [
    {
     "name": "stdout",
     "output_type": "stream",
     "text": [
      "[0.20345207 0.04144098 0.02349783 0.01597374]\n"
     ]
    }
   ],
   "source": [
    "import numpy as np\n",
    "from sklearn.decomposition import PCA\n",
    "from sklearn.datasets import make_classification\n",
    "\n",
    "pca = PCA()\n",
    "X = all_big_data_matched.drop(columns=[\"label\"]).fillna(0)\n",
    "X_train_transform = X_train.drop(columns=[\"label\"]).fillna(0)\n",
    "\n",
    "X_transformed = pca.fit_transform(X)\n",
    "X_train_transformed = pca.transform(X_train_transform)\n",
    "eigenvalues = pca.explained_variance_\n",
    "\n",
    "print(eigenvalues)"
   ]
  },
  {
   "cell_type": "code",
   "execution_count": 387,
   "metadata": {},
   "outputs": [
    {
     "data": {
      "image/png": "[encoded data removed]",
      "text/plain": [
       "<Figure size 720x720 with 1 Axes>"
      ]
     },
     "metadata": {
      "needs_background": "light"
     },
     "output_type": "display_data"
    }
   ],
   "source": [
    "import matplotlib.pyplot as plt\n",
    "from matplotlib.pyplot import figure\n",
    "\n",
    "plt.figure(figsize=(10, 10))\n",
    "plt.scatter(X_train_transformed[:,0],X_train_transformed[:,1], label=\"X_train\")\n",
    "plt.scatter(X_transformed[:,0],X_transformed[:,1], label=\"big_data_matched_train\")\n",
    "\n",
    "plt.legend()\n",
    "plt.show()"
   ]
  }
 ],
 "metadata": {
  "interpreter": {
   "hash": "aee8b7b246df8f9039afb4144a1f6fd8d2ca17a180786b69acc140d282b71a49"
  },
  "kernelspec": {
   "display_name": "Python 3.8.5 64-bit",
   "name": "python3"
  },
  "language_info": {
   "codemirror_mode": {
    "name": "ipython",
    "version": 3
   },
   "file_extension": ".py",
   "mimetype": "text/x-python",
   "name": "python",
   "nbconvert_exporter": "python",
   "pygments_lexer": "ipython3",
   "version": "3.8.5"
  },
  "metadata": {
   "interpreter": {
    "hash": "aee8b7b246df8f9039afb4144a1f6fd8d2ca17a180786b69acc140d282b71a49"
   }
  },
  "orig_nbformat": 2
 },
 "nbformat": 4,
 "nbformat_minor": 2
}